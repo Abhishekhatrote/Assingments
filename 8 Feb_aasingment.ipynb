{
 "cells": [
  {
   "cell_type": "markdown",
   "id": "4d117e6b-ba9f-4162-bf50-090523ee42ad",
   "metadata": {},
   "source": [
    "# Question 1 Answer:"
   ]
  },
  {
   "cell_type": "code",
   "execution_count": 1,
   "id": "dfbc3734-b49d-460c-bd50-1f36c2aab40f",
   "metadata": {},
   "outputs": [
    {
     "data": {
      "text/plain": [
       "'\\nAbstraction is a core concept in object-oriented programming (OOP) that refers to the process of hiding the implementation details of a class, object, or system and exposing only the necessary information to the user. \\nThe goal of abstraction is to simplify complex systems by providing a clear, high-level view of their functionality.\\nAbstraction can be achieved in several ways, including:\\nAbstraction through Encapsulation: This is the process of hiding the internal details of an object and exposing only the necessary information to the outside world. \\nIn other words, it is the process of bundling data and functions that work on that data within a single unit, or object. \\nThis makes the code easier to maintain and avoids the exposure of sensitive information.\\nAbstraction through Inheritance: This is the process of creating a new class that inherits the properties and behavior of an existing class.\\nThe new class is a simplified version of the original class and provides a more abstract view of the original class.\\nAbstraction through Polymorphism: This is the ability of objects to take on many forms. \\nThe same method can be used for different objects and the behavior of the method can be different for each object\\n\\n'"
      ]
     },
     "execution_count": 1,
     "metadata": {},
     "output_type": "execute_result"
    }
   ],
   "source": [
    "\"\"\"\n",
    "Abstraction is a core concept in object-oriented programming (OOP) that refers to the process of hiding the implementation details of a class, object, or system and exposing only the necessary information to the user. \n",
    "The goal of abstraction is to simplify complex systems by providing a clear, high-level view of their functionality.\n",
    "Abstraction can be achieved in several ways, including:\n",
    "Abstraction through Encapsulation: This is the process of hiding the internal details of an object and exposing only the necessary information to the outside world. \n",
    "In other words, it is the process of bundling data and functions that work on that data within a single unit, or object. \n",
    "This makes the code easier to maintain and avoids the exposure of sensitive information.\n",
    "Abstraction through Inheritance: This is the process of creating a new class that inherits the properties and behavior of an existing class.\n",
    "The new class is a simplified version of the original class and provides a more abstract view of the original class.\n",
    "Abstraction through Polymorphism: This is the ability of objects to take on many forms. \n",
    "The same method can be used for different objects and the behavior of the method can be different for each object\n",
    "\n",
    "\"\"\""
   ]
  },
  {
   "cell_type": "code",
   "execution_count": 4,
   "id": "2bb034d6-ac09-46dc-920d-b6b0874d3501",
   "metadata": {},
   "outputs": [
    {
     "name": "stdout",
     "output_type": "stream",
     "text": [
      "Tesla\n",
      "Cybertruck\n",
      "2020\n"
     ]
    }
   ],
   "source": [
    "# example of abstraction\n",
    "class Car:\n",
    "    def __init__(self, make, model, year):\n",
    "        self.__make = make\n",
    "        self.__model = model\n",
    "        self.__year = year\n",
    "\n",
    "    def get_make(self):\n",
    "        return self.__make\n",
    "\n",
    "    def get_model(self):\n",
    "        return self.__model\n",
    "\n",
    "    def get_year(self):\n",
    "        return self.__year\n",
    "\n",
    "my_car = Car(\"Tesla\", \"Cybertruck\", 2020)\n",
    "print(my_car.get_make())\n",
    "print(my_car.get_model())\n",
    "print(my_car.get_year())\n"
   ]
  },
  {
   "cell_type": "markdown",
   "id": "f5d6a936-814a-4042-a1f3-8bb39547ef98",
   "metadata": {},
   "source": [
    "# Question 2 Answer:"
   ]
  },
  {
   "cell_type": "code",
   "execution_count": null,
   "id": "d2b61939-a6db-4269-8870-76c9307e0fb2",
   "metadata": {},
   "outputs": [],
   "source": [
    "\"\"\"Abstraction and Encapsulation are related concepts in object-oriented programming, but they are not the same thing.\n",
    "Abstraction refers to the process of hiding the implementation details of a class or object and exposing only the necessary information to the user. \n",
    "The goal of abstraction is to simplify complex systems by providing a clear, high-level view of their functionality.\n",
    "Encapsulation, on the other hand, refers to the process of bundling data and functions that work on that data within a single unit, or object.\n",
    "In other words, it is the technique of wrapping data and functions into a single unit (such as a class), and hiding the internal details of an object from the outside world.\n",
    "\n"
   ]
  },
  {
   "cell_type": "code",
   "execution_count": 6,
   "id": "761f0dc8-e199-4d70-a3b3-c28e3d197d46",
   "metadata": {},
   "outputs": [],
   "source": [
    "#exapmle of Encapsulation\n",
    "\n",
    "class bank_account :\n",
    "    def __init__(self,balance):\n",
    "        self.__balance = balance \n",
    "    def deposit(self,amount):\n",
    "        self.__balance= self.__balance + amount\n",
    "    def withdraw(self,amount):\n",
    "        if self.__balance >= amount:\n",
    "            self.__balance = self.__balance - amount\n",
    "            return True\n",
    "        else:\n",
    "            return False\n",
    "    def get_balance(self):\n",
    "        return self.__balance"
   ]
  },
  {
   "cell_type": "code",
   "execution_count": 7,
   "id": "b1a10f6c-7ed6-44aa-b095-a3de0f089eb2",
   "metadata": {},
   "outputs": [],
   "source": [
    "abhi = bank_account(1000)"
   ]
  },
  {
   "cell_type": "code",
   "execution_count": 8,
   "id": "4ac13d6c-910c-4794-ab13-12959ef22d71",
   "metadata": {},
   "outputs": [
    {
     "data": {
      "text/plain": [
       "1000"
      ]
     },
     "execution_count": 8,
     "metadata": {},
     "output_type": "execute_result"
    }
   ],
   "source": [
    "abhi.get_balance()"
   ]
  },
  {
   "cell_type": "code",
   "execution_count": 9,
   "id": "cb9b2add-172c-4d0c-a78d-e9096915aa38",
   "metadata": {},
   "outputs": [
    {
     "data": {
      "text/plain": [
       "False"
      ]
     },
     "execution_count": 9,
     "metadata": {},
     "output_type": "execute_result"
    }
   ],
   "source": [
    "abhi.withdraw(1500)"
   ]
  },
  {
   "cell_type": "code",
   "execution_count": 10,
   "id": "0d1ba782-2a8e-42bf-8b76-03f90d7a5258",
   "metadata": {},
   "outputs": [],
   "source": [
    "abhi.deposit(2000)"
   ]
  },
  {
   "cell_type": "markdown",
   "id": "7e1a209e-5738-4184-ba08-764089e3fd2d",
   "metadata": {},
   "source": [
    "# Question 3 Answer:"
   ]
  },
  {
   "cell_type": "code",
   "execution_count": null,
   "id": "c1b5c007-9c1d-4ba9-8ebd-bea551d2195a",
   "metadata": {},
   "outputs": [],
   "source": [
    "\"\"\"\n",
    "hat is the abc module:\n",
    "The abc (abstract base class) module in Python provides a mechanism for defining abstract base classes (ABCs). \n",
    "An abstract base class is a class that cannot be instantiated, but can be subclassed. \n",
    "\n",
    "uses of abc:-\n",
    "It is used to define a common interface for a set of related classes, and to ensure that certain methods are implemented in those classes.\n",
    "The purpose of the abc module is to make it easier to write reusable and maintainable code by defining abstract base classes that specify what methods should be implemented by a subclass. \n",
    "This allows you to define a common interface for a set of related classes, which can help to reduce code duplication,\n",
    "improve maintainability, and provide a clear and consistent API for working with those classes\n",
    "\"\"\""
   ]
  },
  {
   "cell_type": "markdown",
   "id": "38778617-172e-4202-8c66-fe0bf4b93bcf",
   "metadata": {},
   "source": [
    "# Question 4 Answer"
   ]
  },
  {
   "cell_type": "code",
   "execution_count": null,
   "id": "2b220b8d-c5d3-46e8-9400-816fb00c0504",
   "metadata": {},
   "outputs": [],
   "source": [
    "\"\"\"\n",
    "In Python, you can achieve data abstraction by using the following techniques:\n",
    "1)Classes and Objects: In Python, classes provide a way to define abstract data types. \n",
    "The implementation details of the class can be hidden from the user, and only the public methods and attributes can be accessed. \n",
    "\n",
    "class BankAccount:\n",
    "    def __init__(self, balance):\n",
    "        self.__balance = balance\n",
    "\n",
    "    def deposit(self, amount):\n",
    "        self.__balance += amount\n",
    "\n",
    "    def withdraw(self, amount):\n",
    "        if self.__balance >= amount:\n",
    "            self.__balance -= amount\n",
    "        else:\n",
    "            print(\"Insufficient balance\")\n",
    "\n",
    "    def get_balance(self):\n",
    "        return self.__balance\n",
    "\n",
    "In this example, the implementation details of the BankAccount class are hidden from the user,\n",
    "and only the public methods (deposit, withdraw, and get_balance) can be accessed.\n",
    "\n",
    "\n",
    "\n",
    "2)Properties: In Python, properties can be used to control access to an object's attributes.\n",
    "This allows you to hide the implementation details of an object and expose only the necessary information to the user. \n",
    "For example:\n",
    "\n",
    "class BankAccount:\n",
    "    def __init__(self, balance):\n",
    "        self.__balance = balance\n",
    "\n",
    "\"\"\""
   ]
  },
  {
   "cell_type": "markdown",
   "id": "4f90fe45-e4c9-4708-8969-367ff37a8cf1",
   "metadata": {},
   "source": [
    "# Question 5 Answer"
   ]
  },
  {
   "cell_type": "code",
   "execution_count": null,
   "id": "0cc86d10-1106-4e7f-83ac-e5cd498605c4",
   "metadata": {},
   "outputs": [],
   "source": [
    "\"\"\"\n",
    "No, you cannot create an instance of an abstract class in Python. \n",
    "An abstract class is a class that defines a common interface for a set of related classes, but cannot be instantiated on its own.\n",
    "The purpose of an abstract class is to provide a common interface that must be implemented by its subclasses, but not to be instantiated directly.\n",
    "If you try to create an instance of an abstract class in Python, you will get a TypeError. \n",
    "For example, consider the following abstract base class defined using the abc module:\n",
    "\n",
    "import abc\n",
    "\n",
    "class Shape(metaclass=abc.ABCMeta):\n",
    "    @abc.abstractmethod\n",
    "    def area(self):\n",
    "        pass\n",
    "\n",
    "#If you try to create an instance of this abstract base class, you will get a TypeError:\n",
    "\n",
    "shape = Shape() # TypeError: Can't instantiate abstract class Shape with abstract methods area\n",
    "\n",
    "Instead, you must create an instance of a concrete subclass that implements the abstract methods defined in the abstract base class. \n",
    "The concrete subclass can then be used to perform the required operations.\n",
    "\n",
    "\"\"\"\n"
   ]
  }
 ],
 "metadata": {
  "kernelspec": {
   "display_name": "Python 3 (ipykernel)",
   "language": "python",
   "name": "python3"
  },
  "language_info": {
   "codemirror_mode": {
    "name": "ipython",
    "version": 3
   },
   "file_extension": ".py",
   "mimetype": "text/x-python",
   "name": "python",
   "nbconvert_exporter": "python",
   "pygments_lexer": "ipython3",
   "version": "3.10.8"
  }
 },
 "nbformat": 4,
 "nbformat_minor": 5
}
