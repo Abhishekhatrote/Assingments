{
 "cells": [
  {
   "cell_type": "code",
   "execution_count": null,
   "id": "63b8a4a8-0672-45df-b5eb-11e3ef6a8d7e",
   "metadata": {},
   "outputs": [],
   "source": [
    "\"\"\"\n",
    "Question 1 Answer:- Guido van Rossum he devoleped the python language.\n",
    "Question 2 Answer:- Python is an interpreted programming language, supporting object-oriented, structured, and functional programming.\n",
    "Question 3 Answer:- Yes, Python is a case-sensitive language with dealing with identifires.\n",
    "Question 4 Answer:- .py extension is correct extention.\n",
    "Question 5 Answer:- Python is an interpreted language.\n",
    "Question 6 Answer:- Indentation is used to define a block of code in python.\n",
    "Question 7 Answer:- A single-line comment starts and ends in the same line. We use the # symbol to write a single-line comment\n",
    "Question 8 Answer:- sys.version is used for find python version.\n",
    "Question 9 Answer:- lambda\n",
    "Question 10 Answer:-preferred installer program\n",
    "Question 11 Answer:- print( ),type( ), input( ), abs( ),pow( ),dir( ),sorted( ),max( ) \n",
    "Question 12 Answer:- 79 characters.  \n",
    "Question 13 Answer:- 1)Easy to Learn and Use. 2) Mature and Supportive Python Community.3)Support from Renowned Corporate Sponsors.4)Hundreds of Python Libraries and Frameworks\n",
    "                     5)Versatility, Efficiency, Reliability, and Speed.6)Big data, Machine Learning and Cloud Computing.7)First-choice Language.8)The Flexibility of Python Language\n",
    "                     9)Use of python in academics.10)It is interpreted.\n",
    "Question 14 Answer:- there are static memory, dynamic memory, and garbage collection this how memory maneged in python.\n",
    "Question 15 Answer:- Step 1: Download the Python Installer binaries. Open the official Python website in your web browser.Step 2: Run the Executable Installer. Once the installer is downloaded, run the Python installer. ... this is set path vairable 1)Right-clicking This PC and going to Properties. 2)Clicking on the Advanced system settings in the menu on the left.3)Clicking on the Environment Variables button o​n the bottom right.\n",
    "                     4)In the System variables section, selecting the Path variable and clicking on Edit. The next screen will show all the directories that are currently a part of the PATH variable.\n",
    "                     5)Clicking on New and entering Python’s install directory.              \n",
    "Question 16 Answer:- yes indentation required in python\n",
    "\n",
    "\n",
    "\n",
    "\n",
    "\n",
    "\n",
    "\n",
    "\"\"\""
   ]
  }
 ],
 "metadata": {
  "kernelspec": {
   "display_name": "Python 3 (ipykernel)",
   "language": "python",
   "name": "python3"
  },
  "language_info": {
   "codemirror_mode": {
    "name": "ipython",
    "version": 3
   },
   "file_extension": ".py",
   "mimetype": "text/x-python",
   "name": "python",
   "nbconvert_exporter": "python",
   "pygments_lexer": "ipython3",
   "version": "3.10.8"
  }
 },
 "nbformat": 4,
 "nbformat_minor": 5
}
