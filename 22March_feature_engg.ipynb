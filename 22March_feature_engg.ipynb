{
 "cells": [
  {
   "cell_type": "code",
   "execution_count": null,
   "id": "d035314c-76b7-4f23-a4d9-acbe87f8a4cf",
   "metadata": {},
   "outputs": [],
   "source": [
    "# Q 1 Answer:\n",
    "\"\"\"\n",
    "To calculate the Pearson correlation coefficient between the time spent studying and the final exam scores, \n",
    "we would first need to have paired observations for each student. Once we have these paired observations, we can use the following formula to \n",
    "calculate the Pearson correlation coefficient:\n",
    "\n",
    "r = (nΣxy - ΣxΣy) / sqrt[(nΣx^2 - (Σx)^2)(nΣy^2 - (Σy)^2)]\n",
    "\n",
    "where:\n",
    "\n",
    "n is the number of paired observations\n",
    "x and y are the two variables (time spent studying and final exam scores)\n",
    "Σxy is the sum of the products of each paired observation (x_i * y_i)\n",
    "Σx and Σy are the sums of x and y, respectively\n",
    "Σx^2 and Σy^2 are the sums of the squares of x and y, respectively\n",
    "Once we have calculated the Pearson correlation coefficient, we can interpret it as follows:\n",
    "\n",
    "If r is positive, it indicates a positive linear relationship between the two variables, meaning that as one variable increases,\n",
    "so does the other variable.\n",
    "If r is negative, it indicates a negative linear relationship between the two variables, meaning that as one variable increases,\n",
    "the other variable decreases.\n",
    "If r is close to 0, it indicates that there is no linear relationship between the two variables.\n",
    "The strength of the relationship is indicated by the absolute value of r, with values closer to 1 indicating a stronger linear relationship.\n",
    "For example, if the calculated Pearson correlation coefficient is r = 0.8, we would interpret this as a strong positive linear relationship\n",
    "between the amount of time spent studying and the final exam scores. This means that students who spend more time studying tend to earn higher \n",
    "scores on the final exam, and vice versa. If the calculated Pearson correlation coefficient is r = -0.2, we would interpret this as a weak negative \n",
    "linear relationship, indicating that there is some tendency for students who spend less time studying to earn slightly higher scores on the final exam,\n",
    "but the relationship is not very strong.\n",
    "\n",
    "\n",
    "\n",
    "\"\"\""
   ]
  },
  {
   "cell_type": "code",
   "execution_count": null,
   "id": "9e3118b1-d09b-4790-a24b-a68531f98f3f",
   "metadata": {},
   "outputs": [],
   "source": [
    "# Q 2 Answer:\n",
    "\n",
    "\"\"\"\n",
    "To calculate Spearman's rank correlation between the amount of sleep individuals get each night and their overall job satisfaction level, \n",
    "we first need to rank the observations for each variable. We would assign a rank of 1 to the observation with the lowest value, a rank of 2 to \n",
    "the next lowest value, and so on. Ties are assigned the average of the ranks they would have received.\n",
    "\n",
    "Once we have the ranked data, we can use the following formula to calculate Spearman's rank correlation coefficient:\n",
    "\n",
    "r_s = 1 - (6Σd^2 / n(n^2 - 1))\n",
    "\n",
    "where:\n",
    "\n",
    "n is the number of paired observations\n",
    "d is the difference between the ranks of the paired observations\n",
    "The resulting coefficient, r_s, ranges from -1 to 1, where:\n",
    "\n",
    "r_s = 1 indicates a perfect monotonic relationship where as one variable increases, the other variable increases in a strictly monotonic way.\n",
    "r_s = -1 indicates a perfect monotonic relationship where as one variable increases, the other variable decreases in a strictly monotonic way.\n",
    "r_s = 0 indicates no monotonic relationship between the two variables.\n",
    "Once we have calculated the Spearman's rank correlation coefficient, we can interpret it as follows:\n",
    "\n",
    "If r_s is positive, it indicates a monotonic relationship between the two variables, meaning that as one variable increases, so does the other\n",
    "variable in a non-decreasing way.\n",
    "If r_s is negative, it indicates a monotonic relationship between the two variables, meaning that as one variable increases, the other variable\n",
    "decreases in a non-increasing way.\n",
    "If r_s is close to 0, it indicates that there is no monotonic relationship between the two variables.\n",
    "The strength of the relationship is indicated by the absolute value of r_s, with values closer to 1 indicating a stronger monotonic relationship.\n",
    "For example, if the calculated Spearman's rank correlation coefficient is r_s = 0.75, we would interpret this as a strong positive monotonic\n",
    "relationship between the amount of sleep individuals get each night and their overall job satisfaction level. This means that individuals who get\n",
    "more sleep tend to report higher levels of job satisfaction, and vice versa. If the calculated Spearman's rank correlation coefficient is r_s = -0.25,\n",
    "we would interpret this as a weak negative monotonic relationship, indicating that there is some tendency for individuals who get less sleep to report\n",
    "slightly higher levels of job satisfaction, but the relationship is not very strong.\n",
    "\"\"\""
   ]
  },
  {
   "cell_type": "code",
   "execution_count": 3,
   "id": "68d17ab2-9f47-4359-bf31-6686fbab44be",
   "metadata": {},
   "outputs": [
    {
     "name": "stdout",
     "output_type": "stream",
     "text": [
      "Pearson correlation coefficient: 0.465861920504224\n",
      "Spearman's rank correlation: 0.41800710595043267\n"
     ]
    }
   ],
   "source": [
    "# Q 3 Answer:\n",
    "import pandas as pd\n",
    "import scipy.stats as stats\n",
    "\n",
    "# create a sample dataset\n",
    "df = pd.DataFrame({\n",
    "    'hours_of_exercise': [3, 5, 2, 7, 4, 1, 6, 2, 5, 3, 4, 6, 1, 2, 5, 3, 7, 4, 6, 2, 5, 3, 4, 6, 2, 5, 3, 4, 6, 2, 5, 3, 4, 6, 2, 5, 3, 4, 6, \n",
    "                          2, 5, 3, 4, 6, 2, 5, 3, 4, 6,3],\n",
    "    'bmi': [21.3, 26.5, 22.7, 28.1, 24.9, 18.7, 27.5, 22.6, 25.8, 21.2, 24.8, 26.9, 17.9, 20.8, 24.1, 21.7, 27.8, 23.9, 27.3, 22.1, 25.4, 21.4, 25.0, 27.0, 22.3, 25.9,\n",
    "            24.7, 26.8, 22.8, 25.6, 21.9, 24.2, 26.6, 23.0, 25.1, 21.5, 24.9, 26.1, 22.5, 25.3, 21.1, 24.3, 26.3, 23.2, 25.7, 22.4, 24.5, 26.4, 23.5, 25.2]\n",
    "})\n",
    "\n",
    "# calculate the Pearson correlation coefficient\n",
    "pearson_corr, _ = stats.pearsonr(df['hours_of_exercise'], df['bmi'])\n",
    "print(\"Pearson correlation coefficient:\", pearson_corr)\n",
    "\n",
    "# calculate the Spearman's rank correlation\n",
    "spearman_corr, _ = stats.spearmanr(df['hours_of_exercise'], df['bmi'])\n",
    "print(\"Spearman's rank correlation:\", spearman_corr)\n"
   ]
  },
  {
   "cell_type": "code",
   "execution_count": 4,
   "id": "0122004f-8b1d-4de3-9380-678a76075218",
   "metadata": {},
   "outputs": [
    {
     "name": "stdout",
     "output_type": "stream",
     "text": [
      "Pearson correlation coefficient: -0.899954085146515\n"
     ]
    }
   ],
   "source": [
    "# Q 4 Answer:\n",
    "import pandas as pd\n",
    "\n",
    "# create a DataFrame with X and Y variables\n",
    "df = pd.DataFrame({'X': [3, 2, 5, 1, 4, 3, 2, 4, 5, 1],\n",
    "                   'Y': [2, 3, 1, 4, 1, 2, 3, 1, 2, 4]})\n",
    "\n",
    "# calculate the Pearson correlation coefficient\n",
    "r = df['X'].corr(df['Y'], method='pearson')\n",
    "\n",
    "print('Pearson correlation coefficient:', r)\n"
   ]
  },
  {
   "cell_type": "code",
   "execution_count": null,
   "id": "ef65539c-0ee3-4574-a12b-86f93acb59b9",
   "metadata": {},
   "outputs": [],
   "source": [
    "# Q 5 Answer:\n",
    "\"\"\"\n",
    "It is not possible to calculate a correlation coefficient between age and soft drink \n",
    "preference since age is a continuous variable and soft drink preference is a categorical variable.\n",
    "To examine the relationship between these variables, a chi-squared test or a contingency table analysis could be used.\n",
    "\n",
    "\"\"\""
   ]
  },
  {
   "cell_type": "code",
   "execution_count": 6,
   "id": "7e191717-e754-405b-b8ee-ee2fdb54a688",
   "metadata": {},
   "outputs": [
    {
     "name": "stdout",
     "output_type": "stream",
     "text": [
      "Pearson correlation coefficient: [1.         0.96815001]\n"
     ]
    }
   ],
   "source": [
    "# Q 6 Answer:\n",
    "import numpy as np\n",
    "\n",
    "# sample data\n",
    "x = [10, 12, 8, 14, 9, 11, 15, 12, 13, 16, 11, 10, 12, 14, 15, 13, 10, 11, 12, 13, 16, 15, 14, 12, 11, 9, 8, 10, 11, 12]\n",
    "y = [3, 4, 2, 5, 3, 4, 6, 5, 5, 7, 4, 3, 4, 5, 6, 5, 3, 4, 4, 5, 7, 6, 5, 4, 4, 2, 2, 3, 4, 5]\n",
    "\n",
    "# calculate Pearson correlation coefficient\n",
    "r, p = np.corrcoef(x, y)\n",
    "\n",
    "print(\"Pearson correlation coefficient:\", r)\n"
   ]
  }
 ],
 "metadata": {
  "kernelspec": {
   "display_name": "Python 3 (ipykernel)",
   "language": "python",
   "name": "python3"
  },
  "language_info": {
   "codemirror_mode": {
    "name": "ipython",
    "version": 3
   },
   "file_extension": ".py",
   "mimetype": "text/x-python",
   "name": "python",
   "nbconvert_exporter": "python",
   "pygments_lexer": "ipython3",
   "version": "3.10.8"
  }
 },
 "nbformat": 4,
 "nbformat_minor": 5
}
