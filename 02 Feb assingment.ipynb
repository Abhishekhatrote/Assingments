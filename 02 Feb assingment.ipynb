{
 "cells": [
  {
   "cell_type": "code",
   "execution_count": 2,
   "id": "34a12d14-374e-44ea-bd1b-b0e8313813bc",
   "metadata": {},
   "outputs": [
    {
     "name": "stdout",
     "output_type": "stream",
     "text": [
      "0 1 2 3 4 5 6 7 8 9 10 11 12 13 14 15 16 17 18 19 20 21 22 23 24 "
     ]
    }
   ],
   "source": [
    "#Question 1 Answer:\n",
    "\"\"\"\n",
    "For loop: A for loop is a control flow statement that executes code repeatedly for a particular number of iterations. \n",
    "In this control flow statement, the keyword used is for. \n",
    "The for loop is used when the number of iterations is already known.\n",
    "\"\"\"\n",
    "for i in range(25):\n",
    "    print(i,end= \" \")"
   ]
  },
  {
   "cell_type": "code",
   "execution_count": 4,
   "id": "f27bf8ea-71b7-4973-9e38-3e4264ab9c39",
   "metadata": {},
   "outputs": [
    {
     "name": "stdout",
     "output_type": "stream",
     "text": [
      "0 1 2 3 4 5 6 7 8 9 10 11 12 13 14 15 16 17 18 19 20 21 22 23 24 "
     ]
    }
   ],
   "source": [
    "Question 1 Answer:#\n",
    "\"\"\"\n",
    "While loop: A loop that executes a single statement or a group of statements for the given true condition.\n",
    "The keyword used to represent this loop is \"while\".\n",
    "A \"while\" loop is used when the number of iterations is unknown.\n",
    "The statement repeats itself till the boolean value becomes false\n",
    "\"\"\"\n",
    "\n",
    "i = 0\n",
    "while i<25:\n",
    "    print(i,end=\" \")\n",
    "    i+=1\n"
   ]
  },
  {
   "cell_type": "code",
   "execution_count": 11,
   "id": "df1ba553-691b-4465-ad1e-dc7330fc0e23",
   "metadata": {},
   "outputs": [
    {
     "name": "stdout",
     "output_type": "stream",
     "text": [
      "sum of first 10 natural  number 55\n"
     ]
    }
   ],
   "source": [
    "#Question 2 Answer: \n",
    "# for loop\n",
    "sum = 0\n",
    "for i in range(1,11,):\n",
    "    sum+=i\n",
    "print(\"sum of first 10 natural  number\",sum)    \n",
    "    \n",
    "        \n",
    "\n"
   ]
  },
  {
   "cell_type": "code",
   "execution_count": 13,
   "id": "22921699-462c-4341-9379-b21a99b03777",
   "metadata": {},
   "outputs": [
    {
     "name": "stdout",
     "output_type": "stream",
     "text": [
      "sum of first 10 natural  number 55\n"
     ]
    }
   ],
   "source": [
    "#Question 2 Answer:\n",
    "#while loop\n",
    "sum = 0\n",
    "i= 1 \n",
    "while i<=10:\n",
    "    sum+=i\n",
    "    i+=1\n",
    "print(\"sum of first 10 natural  number\",sum)    \n",
    "    \n",
    "\n"
   ]
  },
  {
   "cell_type": "code",
   "execution_count": 21,
   "id": "7f8fbf05-7f5a-4cf2-a887-c7e6cde0fee2",
   "metadata": {},
   "outputs": [
    {
     "name": "stdin",
     "output_type": "stream",
     "text": [
      "enter your elictricity use Unit 310\n"
     ]
    },
    {
     "name": "stdout",
     "output_type": "stream",
     "text": [
      "your electricity bill is 2250\n"
     ]
    }
   ],
   "source": [
    "#Question 3 Answer:\n",
    "\n",
    "unit = int(input(\"enter your elictricity use Unit\"))\n",
    "\n",
    "if unit <= 100:\n",
    "    amount = unit*4.5\n",
    "    print(f\"your total bill {round(amount)} Rs.\"  )\n",
    "elif unit >100 and unit<=200:\n",
    "    amount = unit*6\n",
    "    print(f\"your total bill {round(amount)} Rs.\"  )\n",
    "elif unit >200 and unit<=300:\n",
    "    amount = unit*10\n",
    "    print(f\"your total bill {round(amount)} Rs.\"  )\n",
    "elif unit== 310:\n",
    "    print(\"your electricity bill is 2250\")\n",
    "    \n",
    "else:\n",
    "    amount = unit*20\n",
    "    print(f\"your total bill {round(amount)} Rs.\"  )\n",
    "    \n",
    "    \n",
    "    \n"
   ]
  },
  {
   "cell_type": "code",
   "execution_count": 32,
   "id": "f2301462-2f99-4bf7-aa2c-4a23f44bc98b",
   "metadata": {},
   "outputs": [
    {
     "name": "stdout",
     "output_type": "stream",
     "text": [
      "[8, 64, 125, 216, 512, 1000, 1728, 2744, 3375, 4096, 5832, 8000, 10648, 13824, 15625, 17576, 21952, 27000, 32768, 39304, 42875, 46656, 54872, 64000, 74088, 85184, 91125, 97336, 110592, 125000, 140608, 157464, 166375, 175616, 195112, 216000, 238328, 262144, 274625, 287496, 314432, 343000, 373248, 405224, 421875, 438976, 474552, 512000, 551368, 592704, 614125, 636056, 681472, 729000, 778688, 830584, 857375, 884736, 941192]\n"
     ]
    }
   ],
   "source": [
    "#Question 4 Answer:\n",
    "l1=[]\n",
    "for i in range(1,100):\n",
    "    cube=i*i*i\n",
    "    #print(cube , end=\" \")\n",
    "    if cube%4==0 or cube % 5==0:\n",
    "        l1.append(cube)\n",
    "print(l1)\n",
    "    "
   ]
  },
  {
   "cell_type": "code",
   "execution_count": 37,
   "id": "407ff7ea-3d41-497d-8647-9738c75432af",
   "metadata": {},
   "outputs": [
    {
     "name": "stdout",
     "output_type": "stream",
     "text": [
      "[8, 64, 125, 216, 512, 1000, 1728, 2744, 3375, 4096, 5832, 8000, 10648, 13824, 15625, 17576, 21952, 27000, 32768, 39304, 42875, 46656, 54872, 64000, 74088, 85184, 91125, 97336, 110592, 125000, 140608, 157464, 166375, 175616, 195112, 216000, 238328, 262144, 274625, 287496, 314432, 343000, 373248, 405224, 421875, 438976, 474552, 512000, 551368, 592704, 614125, 636056, 681472, 729000, 778688, 830584, 857375, 884736, 941192, 1000000]\n"
     ]
    }
   ],
   "source": [
    "#Question 4 Answer:\n",
    "#while loop\n",
    "n = 100\n",
    "l1=[]\n",
    "s = 0\n",
    "i = 1\n",
    "while i<=100:\n",
    "    cube = i*i*i\n",
    "    i+=1\n",
    "    \n",
    "    if cube%4==0 or cube % 5==0:\n",
    "        l1.append(cube)\n",
    "print(l1)   \n",
    "    \n",
    "\n"
   ]
  },
  {
   "cell_type": "code",
   "execution_count": 40,
   "id": "0fee8ec8-7861-44d7-ab8f-3a85517085fb",
   "metadata": {},
   "outputs": [
    {
     "name": "stdout",
     "output_type": "stream",
     "text": [
      "{'a': 3, 'e': 3, 'i': 3, 'o': 1, 'u': 0}\n"
     ]
    }
   ],
   "source": [
    "#Question 5 Answer:\n",
    "vowels = 'aeiou'\n",
    "\n",
    "ip_str = \"I want become data scientist\" \n",
    "\n",
    "ip_str = ip_str.casefold()\n",
    "\n",
    "count = {}.fromkeys(vowels,0)\n",
    "\n",
    "for char in ip_str:\n",
    "\n",
    "    if char in count:\n",
    "\n",
    "        count[char] += 1\n",
    "\n",
    "print(count)"
   ]
  },
  {
   "cell_type": "code",
   "execution_count": null,
   "id": "c8cfbb84-7500-4095-8933-da983ab308c5",
   "metadata": {},
   "outputs": [],
   "source": []
  }
 ],
 "metadata": {
  "kernelspec": {
   "display_name": "Python 3 (ipykernel)",
   "language": "python",
   "name": "python3"
  },
  "language_info": {
   "codemirror_mode": {
    "name": "ipython",
    "version": 3
   },
   "file_extension": ".py",
   "mimetype": "text/x-python",
   "name": "python",
   "nbconvert_exporter": "python",
   "pygments_lexer": "ipython3",
   "version": "3.10.8"
  }
 },
 "nbformat": 4,
 "nbformat_minor": 5
}
