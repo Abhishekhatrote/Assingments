{
 "cells": [
  {
   "cell_type": "markdown",
   "id": "2269f634-64aa-42e4-91b1-69c5913bf7f1",
   "metadata": {},
   "source": [
    "# Question 1 Answer:-"
   ]
  },
  {
   "cell_type": "code",
   "execution_count": 7,
   "id": "3f42b7b5-b6c4-4e0e-924b-67c713710520",
   "metadata": {},
   "outputs": [],
   "source": [
    "# the def keyword use for create function\n",
    "\n",
    "def odd_number():\n",
    "    l =[]\n",
    "    for i in range(1,26):\n",
    "        if i % 2 !=0:\n",
    "            l.append(i)\n",
    "    return l \n",
    "\n",
    "\n",
    "      "
   ]
  },
  {
   "cell_type": "code",
   "execution_count": 8,
   "id": "37a012ad-15ec-411b-b080-0433cb4686ed",
   "metadata": {},
   "outputs": [
    {
     "data": {
      "text/plain": [
       "[1, 3, 5, 7, 9, 11, 13, 15, 17, 19, 21, 23, 25]"
      ]
     },
     "execution_count": 8,
     "metadata": {},
     "output_type": "execute_result"
    }
   ],
   "source": [
    "odd_number()"
   ]
  },
  {
   "cell_type": "markdown",
   "id": "0bb67298-a55b-47e1-a8f7-7854d01d9ed0",
   "metadata": {},
   "source": [
    "# Question 2 Answer"
   ]
  },
  {
   "cell_type": "code",
   "execution_count": null,
   "id": "bbea9249-2ba2-4d13-a046-5d663be6bf2c",
   "metadata": {},
   "outputs": [],
   "source": [
    "\"\"\"You can use *args and **kwargs as arguments of a function \n",
    "when you are unsure about the number of arguments to pass in the functions.\n",
    "\n",
    "*args :\n",
    "If you do not know how many arguments that will be passed into your function,\n",
    "add a * before the parameter name in the function definition.\n",
    "This way the function will receive a tuple of arguments, and can access the items accordingly:\n",
    "\n",
    "***kwargs :\n",
    "If you do not know how many keyword arguments that will be passed into your function, \n",
    "add two asterisk: ** before the parameter name in the function definition.\n",
    "This way the function will receive a dictionary of arguments, and can access the items accordingly:\n",
    "\n",
    "\"\"\"\n"
   ]
  },
  {
   "cell_type": "code",
   "execution_count": 14,
   "id": "05537b7d-9936-4c8f-b683-78f4b9d1997e",
   "metadata": {},
   "outputs": [],
   "source": [
    "def add(*numbers):\n",
    "    total=0\n",
    "    for num in numbers:\n",
    "        total+=num\n",
    "    return total\n"
   ]
  },
  {
   "cell_type": "code",
   "execution_count": 15,
   "id": "2035a26f-d66d-4840-b957-2a536538cb51",
   "metadata": {},
   "outputs": [
    {
     "data": {
      "text/plain": [
       "20"
      ]
     },
     "execution_count": 15,
     "metadata": {},
     "output_type": "execute_result"
    }
   ],
   "source": [
    "add(2,4,6,8)"
   ]
  },
  {
   "cell_type": "code",
   "execution_count": 20,
   "id": "39068d0e-a45d-4397-ac90-5d72e4128928",
   "metadata": {},
   "outputs": [
    {
     "name": "stdout",
     "output_type": "stream",
     "text": [
      "first == Abhi\n",
      "mid == Cintamani\n",
      "last == Hatrote\n"
     ]
    }
   ],
   "source": [
    "def myFun(**kwargs):\n",
    "\tfor key, value in kwargs.items():\n",
    "\t\tprint(\"%s == %s\" % (key, value))\n",
    "\n",
    "\n",
    "# Driver code\n",
    "myFun(first='Abhi', mid='Cintamani', last='Hatrote')\n",
    "\n",
    "\n",
    "    "
   ]
  },
  {
   "cell_type": "markdown",
   "id": "28b7fd35-af98-401e-8c8f-b3059114da0c",
   "metadata": {},
   "source": [
    "# Question 3 Answer:-"
   ]
  },
  {
   "cell_type": "code",
   "execution_count": null,
   "id": "cf886645-3841-4308-b6c9-60dce114b02e",
   "metadata": {},
   "outputs": [],
   "source": [
    "\"\"\"\n",
    "Python Iterators\n",
    "An iterator is an object that contains a countable number of values.\n",
    "An iterator is an object that can be iterated upon, meaning that you can traverse through all the values.\n",
    "Technically, in Python, an iterator is an object which implements the iterator protocol, which consist of the methods __iter__() and __next__().\n",
    "\"\"\"\n"
   ]
  },
  {
   "cell_type": "code",
   "execution_count": 21,
   "id": "eaa79c26-f1ba-4b72-b27d-73c572b15311",
   "metadata": {},
   "outputs": [],
   "source": [
    "l = [2,4,6,8,10,12,14,15,18,20,]"
   ]
  },
  {
   "cell_type": "code",
   "execution_count": 24,
   "id": "bcd3abe5-ac24-42ee-be43-f2419fa53f82",
   "metadata": {},
   "outputs": [
    {
     "name": "stdout",
     "output_type": "stream",
     "text": [
      "2 4 6 8 10 "
     ]
    }
   ],
   "source": [
    "import itertools\n",
    "\n",
    "n = 5\n",
    "l = [2,4,6,8,10,12,14,15,18,20,]\n",
    "for item in itertools.islice(l, n):\n",
    "    print(item,end=\" \")\n",
    "    "
   ]
  },
  {
   "cell_type": "markdown",
   "id": "753f82c8-9297-481c-81f4-4385407c82bb",
   "metadata": {},
   "source": [
    "# Question 4 Answer:-"
   ]
  },
  {
   "cell_type": "code",
   "execution_count": null,
   "id": "38f0e102-e31f-4db2-883d-a061630ebec4",
   "metadata": {},
   "outputs": [],
   "source": [
    "\"\"\"\n",
    "Genrator:\n",
    "In Python, a generator is a function that returns an iterator that produces a sequence of values when iterated over.\n",
    "Generators are useful when we want to produce a large sequence of values, but we don't want to store all of them in memory at once.\n",
    "\n",
    "yild function use:\n",
    "yield keyword is used to create a generator function. A type of function that is memory efficient and can be used like an iterator object.\n",
    "\"\"\""
   ]
  },
  {
   "cell_type": "code",
   "execution_count": 26,
   "id": "d079b411-ee9a-45d2-93e7-3d03f8f5fc36",
   "metadata": {},
   "outputs": [],
   "source": [
    "def test_fib1():\n",
    "    a,b = 0,1\n",
    "    while True:\n",
    "        yield a\n",
    "        a,b =b, a+b"
   ]
  },
  {
   "cell_type": "code",
   "execution_count": 27,
   "id": "c93ad7de-6f06-41bd-9524-213dd4680b17",
   "metadata": {},
   "outputs": [],
   "source": [
    "fib = test_fib1()"
   ]
  },
  {
   "cell_type": "code",
   "execution_count": 28,
   "id": "75738b61-3686-4b29-9cc5-e5b85aa9304b",
   "metadata": {},
   "outputs": [
    {
     "name": "stdout",
     "output_type": "stream",
     "text": [
      "0\n",
      "1\n",
      "1\n",
      "2\n",
      "3\n",
      "5\n",
      "8\n",
      "13\n",
      "21\n",
      "34\n"
     ]
    }
   ],
   "source": [
    "for i in range(10):\n",
    "    print(next(fib))"
   ]
  },
  {
   "cell_type": "code",
   "execution_count": 30,
   "id": "14c40f5d-d2f5-4fd3-b6b9-90aedb45b260",
   "metadata": {},
   "outputs": [
    {
     "data": {
      "text/plain": [
       "generator"
      ]
     },
     "execution_count": 30,
     "metadata": {},
     "output_type": "execute_result"
    }
   ],
   "source": [
    "type(fib)"
   ]
  },
  {
   "cell_type": "markdown",
   "id": "a94356c3-2bb6-421c-bd18-de092d177acb",
   "metadata": {},
   "source": [
    "# Question 5 Answer:-"
   ]
  },
  {
   "cell_type": "code",
   "execution_count": 57,
   "id": "1e496e01-819c-4b17-92d6-72d57b950f3f",
   "metadata": {},
   "outputs": [],
   "source": [
    "def prim():\n",
    "    for num in range(1,1001):\n",
    "        if num > 1:\n",
    "            for i in range(2,num):\n",
    "                if (num % i) == 0:\n",
    "                    break\n",
    "            else: \n",
    "                yield num"
   ]
  },
  {
   "cell_type": "code",
   "execution_count": 58,
   "id": "09994068-10cc-41da-80af-faddc56eb6cb",
   "metadata": {},
   "outputs": [],
   "source": [
    "first_ten = prim()"
   ]
  },
  {
   "cell_type": "code",
   "execution_count": 61,
   "id": "b67c71ab-48ed-4efb-a138-479be56058ee",
   "metadata": {},
   "outputs": [
    {
     "name": "stdout",
     "output_type": "stream",
     "text": [
      "79 83 89 97 101 103 107 109 113 127 131 137 139 149 151 157 163 167 173 179 "
     ]
    }
   ],
   "source": [
    "import itertools\n",
    "\n",
    "n = 20\n",
    "\n",
    "for item in itertools.islice(first_ten, n):\n",
    "    print((item),end=\" \")\n",
    "    \n"
   ]
  },
  {
   "cell_type": "markdown",
   "id": "d7d0cbb8-6916-4cc6-bc7c-9804b5ecaacd",
   "metadata": {},
   "source": [
    "# Question 6 Answer"
   ]
  },
  {
   "cell_type": "code",
   "execution_count": 62,
   "id": "7ac26316-a239-4c5e-ba27-36bcbc145b67",
   "metadata": {},
   "outputs": [
    {
     "name": "stdin",
     "output_type": "stream",
     "text": [
      "enter the number of element 10\n"
     ]
    },
    {
     "name": "stdout",
     "output_type": "stream",
     "text": [
      "0\n",
      "1\n",
      "1\n",
      "2\n",
      "3\n",
      "5\n",
      "8\n",
      "13\n",
      "21\n",
      "34\n"
     ]
    }
   ],
   "source": [
    "number = int(input(\"enter the number of element\"))\n",
    "a,b = 0,1\n",
    "counter = 0\n",
    "while counter < number:\n",
    "    print(a)\n",
    "    c = a+b\n",
    "    a=b\n",
    "    b=c\n",
    "    counter=counter+1"
   ]
  },
  {
   "cell_type": "markdown",
   "id": "5f8c4540-672e-451c-87f1-9d20bdd65cbd",
   "metadata": {},
   "source": [
    "# Question 7 Answer:-"
   ]
  },
  {
   "cell_type": "code",
   "execution_count": 72,
   "id": "d6f88883-c0bc-425e-b2df-70b198388012",
   "metadata": {},
   "outputs": [
    {
     "data": {
      "text/plain": [
       "['P', 'W', 'S', 'K', 'I', 'L', 'L', 'S']"
      ]
     },
     "execution_count": 72,
     "metadata": {},
     "output_type": "execute_result"
    }
   ],
   "source": [
    "s = \"pwskills\"\n",
    "list(map(lambda s:s.upper(), s))"
   ]
  },
  {
   "cell_type": "markdown",
   "id": "87657964-c6d2-47c2-a429-e424590aa988",
   "metadata": {},
   "source": [
    "# Question 8 Answer :-"
   ]
  },
  {
   "cell_type": "code",
   "execution_count": 73,
   "id": "d9c1072b-22b8-49b2-9aad-0330f96bed06",
   "metadata": {},
   "outputs": [
    {
     "name": "stdin",
     "output_type": "stream",
     "text": [
      "Enter a number: 5\n"
     ]
    },
    {
     "name": "stdout",
     "output_type": "stream",
     "text": [
      "The number is palindrome!\n"
     ]
    }
   ],
   "source": [
    "num=int(input(\"Enter a number:\"))\n",
    "temp=num\n",
    "rev=0\n",
    "while(num>0):\n",
    "    dig=num%10\n",
    "    rev=rev*10+dig\n",
    "    num=num//10\n",
    "if(temp==rev):\n",
    "    print(\"The number is palindrome!\")\n",
    "else:\n",
    "    print(\"Not a palindrome!\")"
   ]
  },
  {
   "cell_type": "markdown",
   "id": "1c4b9ffa-b518-427b-9822-71bdf8d9c361",
   "metadata": {},
   "source": [
    "# Quation 9 Answer-:\n"
   ]
  },
  {
   "cell_type": "code",
   "execution_count": null,
   "id": "643acff2-4c80-41b5-9133-d57bfe6e9e37",
   "metadata": {},
   "outputs": [],
   "source": [
    "l = range(100)\n",
    "[i for i in l if i%2!=0 ]"
   ]
  }
 ],
 "metadata": {
  "kernelspec": {
   "display_name": "Python 3 (ipykernel)",
   "language": "python",
   "name": "python3"
  },
  "language_info": {
   "codemirror_mode": {
    "name": "ipython",
    "version": 3
   },
   "file_extension": ".py",
   "mimetype": "text/x-python",
   "name": "python",
   "nbconvert_exporter": "python",
   "pygments_lexer": "ipython3",
   "version": "3.10.8"
  }
 },
 "nbformat": 4,
 "nbformat_minor": 5
}
