{
 "cells": [
  {
   "cell_type": "code",
   "execution_count": null,
   "id": "084d5184-5a7c-40aa-892c-0f2d74ee1f99",
   "metadata": {},
   "outputs": [],
   "source": [
    "# Q 1 Ans :\n",
    "\n",
    "\"\"\"\n",
    "1)read_csv(): This function is used to read a CSV file and convert it into a pandas DataFrame.\n",
    "\n",
    "import pandas as pd\n",
    "\n",
    "# Reading CSV file\n",
    "df = pd.read_csv('my_csv_file.csv')\n",
    "\n",
    "# Printing the first 5 rows of the DataFrame\n",
    "print(df.head())\n",
    "\n",
    "2)describe(): This function provides summary statistics of the DataFrame \n",
    "like count, mean, standard deviation, minimum and maximum values, and quartiles.\n",
    "\n",
    "import pandas as pd\n",
    "\n",
    "# Creating a sample DataFrame\n",
    "df = pd.DataFrame({\n",
    "   'A': [1, 2, 3],\n",
    "   'B': [4, 5, 6],\n",
    "   'C': [7, 8, 9]\n",
    "})\n",
    "\n",
    "# Using describe function to get summary statistics\n",
    "print(df.describe())\n",
    "\n",
    "3)groupby(): This function is used to group data based on one or more columns,\n",
    "and then perform aggregate functions like sum, mean, or count on each group\n",
    "\n",
    "import pandas as pd\n",
    "\n",
    "# Creating a sample DataFrame\n",
    "df = pd.DataFrame({\n",
    "   'Name': ['John', 'Mary', 'Peter', 'John', 'Peter'],\n",
    "   'Age': [25, 30, 35, 40, 45],\n",
    "   'Salary': [5000, 6000, 7000, 8000, 9000]\n",
    "})\n",
    "\n",
    "# Grouping by name and getting mean of salary\n",
    "grouped_data = df.groupby('Name')['Salary'].mean()\n",
    "\n",
    "# Printing the grouped data\n",
    "print(grouped_data)\n",
    "\n",
    "4)merge(): This function is used to merge two DataFrames based on a common column.\n",
    "\n",
    "import pandas as pd\n",
    "\n",
    "# Creating two sample DataFrames\n",
    "df1 = pd.DataFrame({\n",
    "   'ID': [1, 2, 3, 4],\n",
    "   'Name': ['John', 'Mary', 'Peter', 'David']\n",
    "})\n",
    "\n",
    "df2 = pd.DataFrame({\n",
    "   'ID': [1, 2, 3, 5],\n",
    "   'Salary': [5000, 6000, 7000, 8000]\n",
    "})\n",
    "\n",
    "# Merging the two DataFrames\n",
    "merged_df = pd.merge(df1, df2, on='ID')\n",
    "\n",
    "# Printing the merged DataFrame\n",
    "print(merged_df)\n",
    "\n",
    "5)pivot_table(): This function is used to create a pivot table based on the data in the DataFrame.\n",
    "\n",
    "import pandas as pd\n",
    "\n",
    "# Creating a sample DataFrame\n",
    "df = pd.DataFrame({\n",
    "   'Name': ['John', 'Mary', 'Peter', 'John', 'Peter'],\n",
    "   'Age': [25, 30, 35, 40, 45],\n",
    "   'Salary': [5000, 6000, 7000, 8000, 9000]\n",
    "})\n",
    "\n",
    "# Creating pivot table\n",
    "pivot_table = df.pivot_table(values='Salary', index='Name', columns='Age')\n",
    "\n",
    "# Printing the pivot table\n",
    "print(pivot_table)\n",
    "\n",
    "\"\"\""
   ]
  },
  {
   "cell_type": "code",
   "execution_count": 4,
   "id": "6cae018e-89c4-4881-ad71-8604b47216ca",
   "metadata": {},
   "outputs": [
    {
     "name": "stdout",
     "output_type": "stream",
     "text": [
      "     A    B    C\n",
      "1  2.0  5.0  8.0\n",
      "3  NaN  NaN  NaN\n",
      "5  NaN  NaN  NaN\n"
     ]
    }
   ],
   "source": [
    "# Q 2 Ans :\n",
    "\n",
    "import pandas as pd\n",
    "\n",
    "def reindex_dataframe(df):\n",
    "    # Creating a new index using range and multiplying it by 2\n",
    "    new_index = pd.RangeIndex(start=1, stop=2*len(df), step=2)\n",
    "    # Re-indexing the DataFrame with the new index\n",
    "    df = df.reindex(new_index)\n",
    "    # Returning the re-indexed DataFrame\n",
    "    return df\n",
    "\n",
    "import pandas as pd\n",
    "\n",
    "# Creating a sample DataFrame\n",
    "df = pd.DataFrame({\n",
    "   'A': [1, 2, 3],\n",
    "   'B': [4, 5, 6],\n",
    "   'C': [7, 8, 9]\n",
    "})\n",
    "\n",
    "# Re-indexing the DataFrame using the reindex_dataframe function\n",
    "df = reindex_dataframe(df)\n",
    "\n",
    "# Printing the re-indexed DataFrame\n",
    "print(df)\n"
   ]
  },
  {
   "cell_type": "code",
   "execution_count": 7,
   "id": "c7c13d73-ff51-4ccc-b1b4-ce97a4e9a08c",
   "metadata": {},
   "outputs": [
    {
     "name": "stdout",
     "output_type": "stream",
     "text": [
      "The sum of the first three values in the 'Values' column is: 100\n"
     ]
    }
   ],
   "source": [
    "# Q 3 Ans :\n",
    "\n",
    "import pandas as pd\n",
    "\n",
    "def calculate_sum(df):\n",
    "    # Initializing a variable to hold the sum\n",
    "    sum_values = 0\n",
    "    # Iterating over the first three values in the 'Values' column\n",
    "    for value in df['Values'].iloc[:3]:\n",
    "        # Adding each value to the sum\n",
    "        sum_values += value\n",
    "    # Printing the sum to the console\n",
    "    print(\"The sum of the first three values in the 'Values' column is:\", sum_values)\n",
    "\n",
    "\n",
    "# Creating a sample DataFrame\n",
    "df = pd.DataFrame({\n",
    "   'Values': [20, 20, 60, 120, 150]\n",
    "})\n",
    "\n",
    "# Calling the calculate_sum function\n",
    "calculate_sum(df)\n"
   ]
  },
  {
   "cell_type": "code",
   "execution_count": 9,
   "id": "d07939c9-1236-4335-bea2-27c10af758d4",
   "metadata": {},
   "outputs": [
    {
     "name": "stdout",
     "output_type": "stream",
     "text": [
      "                          Text  Word_Count\n",
      "0  Abhishek chintamani hatrote           3\n",
      "1               Ajit a Hatrote           3\n",
      "2              Suraj a hatrote           3\n"
     ]
    }
   ],
   "source": [
    "# Q 4 Ans :\n",
    "import pandas as pd\n",
    "\n",
    "def add_word_count_column(df):\n",
    "    # Splitting the 'Text' column by spaces to get a list of words for each row\n",
    "    words_list = df['Text'].str.split()\n",
    "    # Counting the number of words in each row and adding it as a new column\n",
    "    df['Word_Count'] = words_list.apply(len)\n",
    "    # Returning the DataFrame with the new column\n",
    "    return df\n",
    "\n",
    "import pandas as pd\n",
    "\n",
    "# Creating a sample DataFrame\n",
    "df = pd.DataFrame({\n",
    "   'Text': ['Abhishek chintamani hatrote', 'Ajit a Hatrote', 'Suraj a hatrote']\n",
    "})\n",
    "\n",
    "# Adding the 'Word_Count' column using the add_word_count_column function\n",
    "df = add_word_count_column(df)\n",
    "\n",
    "# Printing the updated DataFrame\n",
    "print(df)\n"
   ]
  },
  {
   "cell_type": "code",
   "execution_count": null,
   "id": "bf97bc36-810f-41a6-a3e2-16546984ea1d",
   "metadata": {},
   "outputs": [],
   "source": [
    "# Q 5 Ans :\n",
    "\"\"\"\n",
    "Both DataFrame.size and DataFrame.\n",
    "shape are attributes of a pandas DataFrame object that can be used to obtain information about the dimensions of the DataFrame. \n",
    "However, there is a difference in the type of information that they provide.\n",
    "\n",
    "DataFrame.size returns the total number of elements in the DataFrame, which is the product of the number of rows and columns. \n",
    "It returns an integer value.\n",
    "\n",
    "DataFrame.shape returns a tuple that contains the number of rows and columns in the DataFrame, respectively. \n",
    "It returns a tuple of integers.\n",
    "\"\"\"\n"
   ]
  },
  {
   "cell_type": "code",
   "execution_count": null,
   "id": "dc7c4019-75cf-45c6-95ab-d99ba3f71c4f",
   "metadata": {},
   "outputs": [],
   "source": [
    "# Q 6 Ans :\n",
    "\"\"\"\n",
    "The function that is commonly used in pandas to read an Excel file is pandas.read_excel(). \n",
    "This function can read an Excel file and create a pandas DataFrame object from it.\n",
    "\n",
    "Here's an example code snippet that demonstrates how to use pandas.read_excel() to read an Excel file:\n",
    "import pandas as pd\n",
    "\n",
    "# Reading an Excel file named 'example.xlsx' and creating a DataFrame\n",
    "df = pd.read_excel('example.xlsx')\n",
    "\n",
    "# Displaying the DataFrame\n",
    "print(df.head())\n",
    "\n",
    "\"\"\""
   ]
  },
  {
   "cell_type": "code",
   "execution_count": 10,
   "id": "b5a9f0e6-a2ea-4e33-bc38-bf5e68ee2891",
   "metadata": {},
   "outputs": [
    {
     "name": "stdout",
     "output_type": "stream",
     "text": [
      "                    Email    Username\n",
      "0    john.doe@example.com    john.doe\n",
      "1  jane.smith@example.com  jane.smith\n"
     ]
    }
   ],
   "source": [
    "# Q 7 Ans :\n",
    "import pandas as pd\n",
    "\n",
    "def extract_username(df):\n",
    "    # Extracting the username from each email address in the 'Email' column\n",
    "    df['Username'] = df['Email'].str.split('@').str[0]\n",
    "    return df\n",
    "# Creating a sample DataFrame\n",
    "df = pd.DataFrame({\n",
    "   'Email': ['john.doe@example.com', 'jane.smith@example.com']\n",
    "})\n",
    "\n",
    "# Applying the function to extract the usernames and create a new 'Username' column\n",
    "df = extract_username(df)\n",
    "\n",
    "# Displaying the updated DataFrame\n",
    "print(df.head())\n"
   ]
  },
  {
   "cell_type": "code",
   "execution_count": 11,
   "id": "5dfafeca-e354-435f-b34d-b2a78505cff8",
   "metadata": {},
   "outputs": [
    {
     "name": "stdout",
     "output_type": "stream",
     "text": [
      "   A  B  C\n",
      "1  8  2  7\n",
      "2  6  9  4\n",
      "4  9  1  2\n"
     ]
    }
   ],
   "source": [
    "# Q 8 Ans :\n",
    "import pandas as pd\n",
    "\n",
    "def select_rows(df):\n",
    "    # Selecting rows where 'A' > 5 and 'B' < 10\n",
    "    selected_rows = df[(df['A'] > 5) & (df['B'] < 10)]\n",
    "    return selected_rows\n",
    "# Creating a sample DataFrame\n",
    "df = pd.DataFrame({\n",
    "   'A': [3, 8, 6, 2, 9],\n",
    "   'B': [5, 2, 9, 3, 1],\n",
    "   'C': [1, 7, 4, 5, 2]\n",
    "})\n",
    "\n",
    "# Applying the function to select rows where 'A' > 5 and 'B' < 10\n",
    "selected_rows = select_rows(df)\n",
    "\n",
    "# Displaying the selected rows\n",
    "print(selected_rows.head())\n"
   ]
  },
  {
   "cell_type": "code",
   "execution_count": 12,
   "id": "a03229f6-428b-4e1d-8075-53c03a9d9cd1",
   "metadata": {},
   "outputs": [
    {
     "name": "stdout",
     "output_type": "stream",
     "text": [
      "Mean: 5.5\n",
      "Median: 5.5\n",
      "Standard Deviation: 2.449489742783178\n"
     ]
    }
   ],
   "source": [
    "# Q 9 Ans :\n",
    "\n",
    "import pandas as pd\n",
    "\n",
    "def calculate_stats(df):\n",
    "    # Calculating mean, median, and standard deviation of the 'Values' column\n",
    "    mean = df['Values'].mean()\n",
    "    median = df['Values'].median()\n",
    "    std_dev = df['Values'].std()\n",
    "    \n",
    "    # Printing the results\n",
    "    print('Mean:', mean)\n",
    "    print('Median:', median)\n",
    "    print('Standard Deviation:', std_dev)\n",
    "# Creating a sample DataFrame\n",
    "df = pd.DataFrame({\n",
    "   'Values': [3, 5, 2, 8, 6, 7, 4, 9]\n",
    "})\n",
    "\n",
    "# Applying the function to calculate mean, median, and standard deviation of the 'Values' column\n",
    "calculate_stats(df)\n"
   ]
  },
  {
   "cell_type": "code",
   "execution_count": 19,
   "id": "e9a9b8a0-bc08-4756-b3ce-626c5afe8eb2",
   "metadata": {},
   "outputs": [
    {
     "name": "stdout",
     "output_type": "stream",
     "text": [
      "         Date  Sales  MovingAverage\n",
      "0  2022-01-01     10      10.000000\n",
      "1  2022-01-02     12      11.000000\n",
      "2  2022-01-03     15      12.333333\n",
      "3  2022-01-04     20      14.250000\n",
      "4  2022-01-05     18      15.000000\n",
      "5  2022-01-06     22      16.166667\n",
      "6  2022-01-07     25      17.428571\n",
      "7  2022-01-08     24      19.428571\n",
      "8  2022-01-09     28      21.714286\n",
      "9  2022-01-10     30      23.857143\n",
      "10 2022-01-11     32      25.571429\n",
      "11 2022-01-12     34      27.857143\n",
      "12 2022-01-13     36      29.857143\n",
      "13 2022-01-14     38      31.714286\n",
      "14 2022-01-15     40      34.000000\n",
      "15 2022-01-16     42      36.000000\n",
      "16 2022-01-17     44      38.000000\n",
      "17 2022-01-18     46      40.000000\n",
      "18 2022-01-19     48      42.000000\n",
      "19 2022-01-20     50      44.000000\n",
      "20 2022-01-21     52      46.000000\n",
      "21 2022-01-22     54      48.000000\n",
      "22 2022-01-23     56      50.000000\n",
      "23 2022-01-24     58      52.000000\n",
      "24 2022-01-25     60      54.000000\n",
      "25 2022-01-26     62      56.000000\n",
      "26 2022-01-27     64      58.000000\n",
      "27 2022-01-28     66      60.000000\n",
      "28 2022-01-29     68      62.000000\n",
      "29 2022-01-30     70      64.000000\n"
     ]
    }
   ],
   "source": [
    "# Q 10 Ans :\n",
    "\n",
    "\n",
    "import pandas as pd\n",
    "\n",
    "def calculate_moving_average(df):\n",
    "    # Sorting the DataFrame by date\n",
    "    df = df.sort_values('Date')\n",
    "    \n",
    "    # Calculating the rolling mean with a window of size 7\n",
    "    df['MovingAverage'] = df['Sales'].rolling(window=7, min_periods=1).mean()\n",
    "    \n",
    "    # Returning the DataFrame with the moving average column added\n",
    "    return df\n",
    "# Creating a sample DataFrame\n",
    "df = pd.DataFrame({\n",
    "   'Date': pd.date_range(start='2022-01-01', end='2022-01-30'),\n",
    "   'Sales': [10, 12, 15, 20, 18, 22, 25, 24, 28, 30, 32, 34, 36, 38, 40, 42, 44, 46, 48, 50, 52, 54, 56, 58, 60, 62, 64, 66, 68, 70]\n",
    "})\n",
    "\n",
    "# Applying the function to calculate the moving average\n",
    "df_with_moving_avg = calculate_moving_average(df)\n",
    "print(df_with_moving_avg)\n",
    "\n"
   ]
  },
  {
   "cell_type": "code",
   "execution_count": 25,
   "id": "a4e6e5f1-d737-4ef2-9071-e63a53f66869",
   "metadata": {},
   "outputs": [
    {
     "ename": "SyntaxError",
     "evalue": "incomplete input (2694868578.py, line 10)",
     "output_type": "error",
     "traceback": [
      "\u001b[0;36m  Cell \u001b[0;32mIn[26], line 10\u001b[0;36m\u001b[0m\n\u001b[0;31m    'Date': pd.date_range(start='2022-01-01', end='2022-01-05')}\u001b[0m\n\u001b[0m                                                                ^\u001b[0m\n\u001b[0;31mSyntaxError\u001b[0m\u001b[0;31m:\u001b[0m incomplete input\n"
     ]
    }
   ],
   "source": [
    "# Q 11 Ans :\n",
    "import pandas as pd\n",
    "\n",
    "\n",
    "def add_weekday_column(df):\n",
    "    df['Weekday'] = df['Date'].dt.strftime('%A')\n",
    "    return df\n",
    "\n",
    "df = pd.DataFrame({\n",
    "   'Date': pd.date_range(start='2022-01-01', end='2022-01-05')}\n"
   ]
  },
  {
   "cell_type": "code",
   "execution_count": 27,
   "id": "8b6bfb67-ed69-4456-a7ec-e95030de1678",
   "metadata": {},
   "outputs": [
    {
     "ename": "KeyError",
     "evalue": "'Date'",
     "output_type": "error",
     "traceback": [
      "\u001b[0;31m---------------------------------------------------------------------------\u001b[0m",
      "\u001b[0;31mKeyError\u001b[0m                                  Traceback (most recent call last)",
      "Cell \u001b[0;32mIn[27], line 9\u001b[0m\n\u001b[1;32m      7\u001b[0m     mask \u001b[38;5;241m=\u001b[39m (df[\u001b[38;5;124m'\u001b[39m\u001b[38;5;124mDate\u001b[39m\u001b[38;5;124m'\u001b[39m] \u001b[38;5;241m>\u001b[39m\u001b[38;5;241m=\u001b[39m start_date) \u001b[38;5;241m&\u001b[39m (df[\u001b[38;5;124m'\u001b[39m\u001b[38;5;124mDate\u001b[39m\u001b[38;5;124m'\u001b[39m] \u001b[38;5;241m<\u001b[39m\u001b[38;5;241m=\u001b[39m end_date)\n\u001b[1;32m      8\u001b[0m     \u001b[38;5;28;01mreturn\u001b[39;00m df\u001b[38;5;241m.\u001b[39mloc[mask]\n\u001b[0;32m----> 9\u001b[0m selected_data \u001b[38;5;241m=\u001b[39m \u001b[43mselect_january_data\u001b[49m\u001b[43m(\u001b[49m\u001b[43mdf\u001b[49m\u001b[43m)\u001b[49m\n",
      "Cell \u001b[0;32mIn[27], line 7\u001b[0m, in \u001b[0;36mselect_january_data\u001b[0;34m(df)\u001b[0m\n\u001b[1;32m      5\u001b[0m start_date \u001b[38;5;241m=\u001b[39m pd\u001b[38;5;241m.\u001b[39mTimestamp(\u001b[38;5;124m'\u001b[39m\u001b[38;5;124m2023-01-01\u001b[39m\u001b[38;5;124m'\u001b[39m)\n\u001b[1;32m      6\u001b[0m end_date \u001b[38;5;241m=\u001b[39m pd\u001b[38;5;241m.\u001b[39mTimestamp(\u001b[38;5;124m'\u001b[39m\u001b[38;5;124m2023-01-31\u001b[39m\u001b[38;5;124m'\u001b[39m)\n\u001b[0;32m----> 7\u001b[0m mask \u001b[38;5;241m=\u001b[39m (\u001b[43mdf\u001b[49m\u001b[43m[\u001b[49m\u001b[38;5;124;43m'\u001b[39;49m\u001b[38;5;124;43mDate\u001b[39;49m\u001b[38;5;124;43m'\u001b[39;49m\u001b[43m]\u001b[49m \u001b[38;5;241m>\u001b[39m\u001b[38;5;241m=\u001b[39m start_date) \u001b[38;5;241m&\u001b[39m (df[\u001b[38;5;124m'\u001b[39m\u001b[38;5;124mDate\u001b[39m\u001b[38;5;124m'\u001b[39m] \u001b[38;5;241m<\u001b[39m\u001b[38;5;241m=\u001b[39m end_date)\n\u001b[1;32m      8\u001b[0m \u001b[38;5;28;01mreturn\u001b[39;00m df\u001b[38;5;241m.\u001b[39mloc[mask]\n",
      "File \u001b[0;32m/opt/conda/lib/python3.10/site-packages/pandas/core/frame.py:3805\u001b[0m, in \u001b[0;36mDataFrame.__getitem__\u001b[0;34m(self, key)\u001b[0m\n\u001b[1;32m   3803\u001b[0m \u001b[38;5;28;01mif\u001b[39;00m \u001b[38;5;28mself\u001b[39m\u001b[38;5;241m.\u001b[39mcolumns\u001b[38;5;241m.\u001b[39mnlevels \u001b[38;5;241m>\u001b[39m \u001b[38;5;241m1\u001b[39m:\n\u001b[1;32m   3804\u001b[0m     \u001b[38;5;28;01mreturn\u001b[39;00m \u001b[38;5;28mself\u001b[39m\u001b[38;5;241m.\u001b[39m_getitem_multilevel(key)\n\u001b[0;32m-> 3805\u001b[0m indexer \u001b[38;5;241m=\u001b[39m \u001b[38;5;28;43mself\u001b[39;49m\u001b[38;5;241;43m.\u001b[39;49m\u001b[43mcolumns\u001b[49m\u001b[38;5;241;43m.\u001b[39;49m\u001b[43mget_loc\u001b[49m\u001b[43m(\u001b[49m\u001b[43mkey\u001b[49m\u001b[43m)\u001b[49m\n\u001b[1;32m   3806\u001b[0m \u001b[38;5;28;01mif\u001b[39;00m is_integer(indexer):\n\u001b[1;32m   3807\u001b[0m     indexer \u001b[38;5;241m=\u001b[39m [indexer]\n",
      "File \u001b[0;32m/opt/conda/lib/python3.10/site-packages/pandas/core/indexes/range.py:395\u001b[0m, in \u001b[0;36mRangeIndex.get_loc\u001b[0;34m(self, key, method, tolerance)\u001b[0m\n\u001b[1;32m    393\u001b[0m             \u001b[38;5;28;01mraise\u001b[39;00m \u001b[38;5;167;01mKeyError\u001b[39;00m(key) \u001b[38;5;28;01mfrom\u001b[39;00m \u001b[38;5;21;01merr\u001b[39;00m\n\u001b[1;32m    394\u001b[0m     \u001b[38;5;28mself\u001b[39m\u001b[38;5;241m.\u001b[39m_check_indexing_error(key)\n\u001b[0;32m--> 395\u001b[0m     \u001b[38;5;28;01mraise\u001b[39;00m \u001b[38;5;167;01mKeyError\u001b[39;00m(key)\n\u001b[1;32m    396\u001b[0m \u001b[38;5;28;01mreturn\u001b[39;00m \u001b[38;5;28msuper\u001b[39m()\u001b[38;5;241m.\u001b[39mget_loc(key, method\u001b[38;5;241m=\u001b[39mmethod, tolerance\u001b[38;5;241m=\u001b[39mtolerance)\n",
      "\u001b[0;31mKeyError\u001b[0m: 'Date'"
     ]
    }
   ],
   "source": [
    "# Q 12 Ans :\n",
    "import pandas as pd\n",
    "\n",
    "def select_january_data(df):\n",
    "    \n",
    "    start_date = pd.Timestamp('2023-01-01')\n",
    "    end_date = pd.Timestamp('2023-01-31')\n",
    "    mask = (df['Date'] >= start_date) & (df['Date'] <= end_date)\n",
    "    return df.loc[mask]\n",
    "selected_data = select_january_data(df)\n",
    "\n"
   ]
  },
  {
   "cell_type": "code",
   "execution_count": 29,
   "id": "fb8f7644-4956-4b2f-b782-83dcb4c450f6",
   "metadata": {},
   "outputs": [
    {
     "data": {
      "text/plain": [
       "'\\ne first and foremost necessary library that needs to be imported to use the basic functions of pandas is pandas itself. \\nThe import statement for pandas is typically written as follows:\\n\\n\\nimport pandas as pd\\n\\n\\nThis statement imports the pandas library and aliases it as pd, which is a commonly used alias for pandas in the Python community.\\n'"
      ]
     },
     "execution_count": 29,
     "metadata": {},
     "output_type": "execute_result"
    }
   ],
   "source": [
    "# Q 13 Ans :\n",
    "\n",
    "\"\"\"\n",
    "e first and foremost necessary library that needs to be imported to use the basic functions of pandas is pandas itself. \n",
    "The import statement for pandas is typically written as follows:\n",
    "\n",
    "\n",
    "import pandas as pd\n",
    "\n",
    "\n",
    "This statement imports the pandas library and aliases it as pd, which is a commonly used alias for pandas in the Python community.\n",
    "\"\"\""
   ]
  },
  {
   "cell_type": "code",
   "execution_count": null,
   "id": "ee739dd3-7c58-40ef-8a1d-d72cad20b8d6",
   "metadata": {},
   "outputs": [],
   "source": []
  }
 ],
 "metadata": {
  "kernelspec": {
   "display_name": "Python 3 (ipykernel)",
   "language": "python",
   "name": "python3"
  },
  "language_info": {
   "codemirror_mode": {
    "name": "ipython",
    "version": 3
   },
   "file_extension": ".py",
   "mimetype": "text/x-python",
   "name": "python",
   "nbconvert_exporter": "python",
   "pygments_lexer": "ipython3",
   "version": "3.10.8"
  }
 },
 "nbformat": 4,
 "nbformat_minor": 5
}
