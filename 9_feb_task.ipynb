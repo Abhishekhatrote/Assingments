{
 "cells": [
  {
   "cell_type": "markdown",
   "id": "3fed0ff4-cd6b-4998-ada4-44808607d592",
   "metadata": {},
   "source": [
    "# Question 1 Answer :"
   ]
  },
  {
   "cell_type": "code",
   "execution_count": 22,
   "id": "858ddf4e-6d72-4cb6-b3bf-2f5f361e95b2",
   "metadata": {},
   "outputs": [
    {
     "name": "stdout",
     "output_type": "stream",
     "text": [
      "Car\n",
      "220\n",
      "30\n"
     ]
    }
   ],
   "source": [
    "class Vehicle:\n",
    "    def __init__(self, name_of_vehicle, max_speed, average_of_vehicle):\n",
    "        self.name_of_vehicle = name_of_vehicle\n",
    "        self.max_speed = max_speed\n",
    "        self.average_of_vehicle = average_of_vehicle\n",
    "        \n",
    "car = Vehicle(\"Car\", 220, 30)\n",
    "print(car.name_of_vehicle)\n",
    "print(car.max_speed)\n",
    "print(car.average_of_vehicle)\n",
    "\n",
    "    \n",
    "    \n",
    "    "
   ]
  },
  {
   "cell_type": "markdown",
   "id": "058569a1-bd0f-423e-ba4e-f60d290e413e",
   "metadata": {},
   "source": [
    "# Question 2 Answer :"
   ]
  },
  {
   "cell_type": "code",
   "execution_count": 57,
   "id": "a9348491-b8ad-474b-a3a3-1889d571fe78",
   "metadata": {},
   "outputs": [],
   "source": [
    "class vehicle:\n",
    "    def seating_capacity(name_of_vehicle, capacity):\n",
    "        name_of_vehicle = \"toyota\"\n",
    "        capacity = 5\n",
    "        return f\"{name_of_vehicle} has a seating capacity of {capacity}\"\n",
    "  "
   ]
  },
  {
   "cell_type": "code",
   "execution_count": 58,
   "id": "707d198d-0ce4-436b-9b05-2db9649aa6fd",
   "metadata": {},
   "outputs": [],
   "source": [
    "class Car(vehicle):\n",
    "    pass"
   ]
  },
  {
   "cell_type": "code",
   "execution_count": 59,
   "id": "8a7a3c26-d739-474f-8206-ac3e54648e22",
   "metadata": {},
   "outputs": [],
   "source": [
    "obj_car = Car()"
   ]
  },
  {
   "cell_type": "code",
   "execution_count": 60,
   "id": "9dc854ce-72a5-4e40-a6ac-4a36d554933e",
   "metadata": {},
   "outputs": [
    {
     "data": {
      "text/plain": [
       "'toyota has a seating capacity of 5'"
      ]
     },
     "execution_count": 60,
     "metadata": {},
     "output_type": "execute_result"
    }
   ],
   "source": [
    "obj_car.seating_capacity(5)"
   ]
  },
  {
   "cell_type": "markdown",
   "id": "c715d5c2-95c5-4a3b-871c-37bb1127f939",
   "metadata": {},
   "source": [
    "# Question 3 Answer :"
   ]
  },
  {
   "cell_type": "code",
   "execution_count": 61,
   "id": "33198625-6bc8-444b-9195-78542b600a4f",
   "metadata": {},
   "outputs": [
    {
     "data": {
      "text/plain": [
       "'\\nMultiple inheritance is a feature of object-oriented programming (OOP) languages \\nwhere a single class can inherit properties and methods from multiple parent classes.  \\nThis allows for reusability of code and allows for a class to have the properties and behaviors of multiple classes.\\n'"
      ]
     },
     "execution_count": 61,
     "metadata": {},
     "output_type": "execute_result"
    }
   ],
   "source": [
    "\"\"\"\n",
    "Multiple inheritance is a feature of object-oriented programming (OOP) languages \n",
    "where a single class can inherit properties and methods from multiple parent classes.  \n",
    "This allows for reusability of code and allows for a class to have the properties and behaviors of multiple classes.\n",
    "\"\"\""
   ]
  },
  {
   "cell_type": "code",
   "execution_count": 62,
   "id": "73dcfba8-436f-4067-a09f-10a3fa18d523",
   "metadata": {},
   "outputs": [
    {
     "name": "stdout",
     "output_type": "stream",
     "text": [
      "Parent1 method1\n",
      "Parent2 method2\n"
     ]
    }
   ],
   "source": [
    "# example of multiple inheritacnce\n",
    "\n",
    "class Parent1:\n",
    "    def method1(self):\n",
    "        print(\"Parent1 method1\")\n",
    "        \n",
    "class Parent2:\n",
    "    def method2(self):\n",
    "        print(\"Parent2 method2\")\n",
    "\n",
    "class Child(Parent1, Parent2):\n",
    "    pass\n",
    "\n",
    "c = Child()\n",
    "c.method1()\n",
    "c.method2()\n"
   ]
  },
  {
   "cell_type": "markdown",
   "id": "ca9ca780-0cae-4885-941b-b38df0102f11",
   "metadata": {},
   "source": [
    "# Question 4 Answer: "
   ]
  },
  {
   "cell_type": "code",
   "execution_count": null,
   "id": "d80467c3-33b4-4080-94cc-f790adfa66b0",
   "metadata": {},
   "outputs": [],
   "source": [
    "\"\"\"\n",
    "Getters and setters are methods in object-oriented programming (OOP) that provide a way to access and manipulate the internal state of an object, respectively. Getters are used to retrieve the value of an object's attributes, \n",
    "while setters are used to set the value of an object's attributes.\n",
    "In Python, getters and setters are usually implemented as properties,\n",
    "which are special methods that are invoked automatically when an attribute is accessed or modified.\n",
    "\"\"\""
   ]
  },
  {
   "cell_type": "code",
   "execution_count": 63,
   "id": "151743db-9a8c-49e7-90c2-ffce8b0bee9b",
   "metadata": {},
   "outputs": [
    {
     "name": "stdout",
     "output_type": "stream",
     "text": [
      "20\n",
      "25\n"
     ]
    }
   ],
   "source": [
    "# example of getter and setter\n",
    "class Temperature:\n",
    "    def __init__(self, temperature):\n",
    "        self._temperature = temperature\n",
    "        \n",
    "    @property\n",
    "    def temperature(self):\n",
    "        return self._temperature\n",
    "    \n",
    "    @temperature.setter\n",
    "    def temperature(self, value):\n",
    "        if value < -273.15:\n",
    "            raise ValueError(\"Temperature below absolute zero\")\n",
    "        self._temperature = value\n",
    "\n",
    "t = Temperature(20)\n",
    "print(t.temperature)\n",
    "t.temperature = 25\n",
    "print(t.temperature)\n"
   ]
  },
  {
   "cell_type": "markdown",
   "id": "15e02f34-b2b6-4169-b1e0-440bf5e38a29",
   "metadata": {},
   "source": [
    "# Question 5 Answer:"
   ]
  },
  {
   "cell_type": "code",
   "execution_count": null,
   "id": "c271b184-b613-4bb6-b2ac-e3286aa400f0",
   "metadata": {},
   "outputs": [],
   "source": [
    "\"\"\"\n",
    "Method overriding is a feature of object-oriented programming (OOP) that allows a subclass to provide a new implementation for a method that is already defined in its parent class.  \n",
    "When the method is invoked on an object of the subclass,\n",
    "the new implementation is used, rather than the one inherited from the parent class. \n",
    "This allows for custom behavior to be defined for specific cases, while still preserving the general behavior of the parent class.\n",
    "\"\"\"\n"
   ]
  },
  {
   "cell_type": "code",
   "execution_count": 64,
   "id": "f8386a45-0a0f-4030-8bcf-bbc87298af9a",
   "metadata": {},
   "outputs": [
    {
     "name": "stdout",
     "output_type": "stream",
     "text": [
      "200\n",
      "78.5\n"
     ]
    }
   ],
   "source": [
    "# example of method overiding\n",
    "\n",
    "class Shape:\n",
    "    def area(self):\n",
    "        pass\n",
    "    \n",
    "class Rectangle(Shape):\n",
    "    def __init__(self, width, height):\n",
    "        self.width = width\n",
    "        self.height = height\n",
    "        \n",
    "    def area(self):\n",
    "        return self.width * self.height\n",
    "    \n",
    "class Circle(Shape):\n",
    "    def __init__(self, radius):\n",
    "        self.radius = radius\n",
    "        \n",
    "    def area(self):\n",
    "        return 3.14 * self.radius * self.radius\n",
    "    \n",
    "rect = Rectangle(10, 20)\n",
    "print(rect.area())\n",
    "\n",
    "circle = Circle(5)\n",
    "print(circle.area())\n"
   ]
  },
  {
   "cell_type": "code",
   "execution_count": null,
   "id": "6def9e39-78f5-45dc-acdc-30f0b2f58f19",
   "metadata": {},
   "outputs": [],
   "source": []
  }
 ],
 "metadata": {
  "kernelspec": {
   "display_name": "Python 3 (ipykernel)",
   "language": "python",
   "name": "python3"
  },
  "language_info": {
   "codemirror_mode": {
    "name": "ipython",
    "version": 3
   },
   "file_extension": ".py",
   "mimetype": "text/x-python",
   "name": "python",
   "nbconvert_exporter": "python",
   "pygments_lexer": "ipython3",
   "version": "3.10.8"
  }
 },
 "nbformat": 4,
 "nbformat_minor": 5
}
