{
 "cells": [
  {
   "cell_type": "markdown",
   "id": "d78925c6-24e7-4392-8da5-a2ef1d342526",
   "metadata": {},
   "source": [
    "# Question 1 Answer:"
   ]
  },
  {
   "cell_type": "code",
   "execution_count": 4,
   "id": "372f6b68-ca6f-48a3-b98a-dd6b0ef50dcc",
   "metadata": {},
   "outputs": [
    {
     "name": "stdout",
     "output_type": "stream",
     "text": [
      "0\n"
     ]
    }
   ],
   "source": [
    "def flatten_and_multiply(lst):\n",
    "    def flatten(l):\n",
    "        for el in l:\n",
    "            if isinstance(el, (list, tuple, set)):\n",
    "                yield from flatten(el)\n",
    "            elif isinstance(el, dict):\n",
    "                for key, value in el.items():\n",
    "                    if isinstance(key, (int, float)):\n",
    "                        yield key\n",
    "                    if isinstance(value, (int, float)):\n",
    "                        yield value\n",
    "                    if isinstance(value, (list, tuple, set)):\n",
    "                        yield from flatten(value)\n",
    "            elif isinstance(el, (int, float)):\n",
    "                yield el\n",
    "\n",
    "    flat_list = list(flatten(lst))\n",
    "    result = 1\n",
    "    for num in flat_list:\n",
    "        result *= num\n",
    "    return result\n",
    "\n",
    "list1 = [1, 2, 3, 4, [44, 55, 66, True], False, (34, 56, 78, 89, 34), {1, 2, 3, 3, 2, 1}, {1: 34, \"key2\": [55, 67, 78, 89], 4: (45, 22, 61, 34)}, [56, 'data science'], 'Machine Learning']\n",
    "print(flatten_and_multiply(list1))\n",
    "\n"
   ]
  },
  {
   "cell_type": "markdown",
   "id": "d656e03c-d70b-4096-adb0-0e04f8594da0",
   "metadata": {},
   "source": [
    "# Question 2 Answer:\n"
   ]
  },
  {
   "cell_type": "code",
   "execution_count": 9,
   "id": "7d0acec4-ceb3-4b50-ae5e-9c702d4bcfb1",
   "metadata": {},
   "outputs": [
    {
     "name": "stdout",
     "output_type": "stream",
     "text": [
      "i want to become a data scientist.\n",
      "Input Message: i want to become a data scientist.\n",
      "Encrypted Message: h$v`ms$sn$adbnld$`$c`s`$rbhdmshrs.\n"
     ]
    }
   ],
   "source": [
    "def encrypt_message(message):\n",
    "    encrypted_message = \"\"\n",
    "    for char in message:\n",
    "        if char == \" \":\n",
    "            encrypted_message += \"$\"\n",
    "        elif char.isalpha():\n",
    "            encrypted_message += chr(ord(char) - 1)\n",
    "        else:\n",
    "            encrypted_message += char\n",
    "    return encrypted_message\n",
    "\n",
    "input_sentence = \"I want to become a Data Scientist.\"\n",
    "lowercase_sentence = input_sentence.lower()\n",
    "print(lowercase_sentence)\n",
    "print(\"Input Message:\", lowercase_sentence)\n",
    "print(\"Encrypted Message:\", encrypt_message(lowercase_sentence))"
   ]
  },
  {
   "cell_type": "code",
   "execution_count": null,
   "id": "6f3f29ce-e4de-4933-a88a-116493244cdc",
   "metadata": {},
   "outputs": [],
   "source": []
  }
 ],
 "metadata": {
  "kernelspec": {
   "display_name": "Python 3 (ipykernel)",
   "language": "python",
   "name": "python3"
  },
  "language_info": {
   "codemirror_mode": {
    "name": "ipython",
    "version": 3
   },
   "file_extension": ".py",
   "mimetype": "text/x-python",
   "name": "python",
   "nbconvert_exporter": "python",
   "pygments_lexer": "ipython3",
   "version": "3.10.8"
  }
 },
 "nbformat": 4,
 "nbformat_minor": 5
}
