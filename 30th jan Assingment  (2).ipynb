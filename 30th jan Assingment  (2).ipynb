{
 "cells": [
  {
   "cell_type": "code",
   "execution_count": 6,
   "id": "47939eea-585f-4d11-81b2-498db26b6152",
   "metadata": {},
   "outputs": [
    {
     "name": "stdin",
     "output_type": "stream",
     "text": [
      "enter your marks 55\n"
     ]
    },
    {
     "name": "stdout",
     "output_type": "stream",
     "text": [
      "Grade 'D'\n"
     ]
    }
   ],
   "source": [
    "# Question 1 Answer :-\n",
    "\n",
    "marks = int(input(\"enter your marks\"))\n",
    "\n",
    "if marks > 90:\n",
    "    print(\"Grade 'A' \")\n",
    "elif marks > 80 and marks<= 90:\n",
    "    print(\"Grade 'B' \")\n",
    "elif marks >=60 and marks<=80:\n",
    "    print(\"Grade 'C'\")\n",
    "else:\n",
    "    print(\"Grade 'D'\")\n",
    "    \n"
   ]
  },
  {
   "cell_type": "code",
   "execution_count": 9,
   "id": "50691fb6-b440-46be-a430-1cc082593fbb",
   "metadata": {},
   "outputs": [
    {
     "name": "stdin",
     "output_type": "stream",
     "text": [
      "enter bike price 40000\n"
     ]
    },
    {
     "name": "stdout",
     "output_type": "stream",
     "text": [
      "Tax on bike is 5%\n"
     ]
    }
   ],
   "source": [
    "# Question 2 Answer :-\n",
    "\n",
    "bike_price = int(input(\"enter bike price\"))\n",
    "\n",
    "if bike_price > 100000:\n",
    "    print(\"Tax on bike is 15%\")\n",
    "elif bike_price > 50000 and bike_price <=100000:\n",
    "    print(\"Tax on bike is 10%\")\n",
    "else:\n",
    "    if bike_price <= 50000:\n",
    "        print(\"Tax on bike is 5%\")\n",
    "      "
   ]
  },
  {
   "cell_type": "code",
   "execution_count": 19,
   "id": "941bc725-28cd-4055-8e87-d3a3fae23165",
   "metadata": {},
   "outputs": [
    {
     "name": "stdin",
     "output_type": "stream",
     "text": [
      "Enter city... agra\n"
     ]
    },
    {
     "name": "stdout",
     "output_type": "stream",
     "text": [
      "Monunment is 'Taj Mahal' \n"
     ]
    }
   ],
   "source": [
    "# Question 3 Answer :-\n",
    "\n",
    "city = input(\"Enter city...\")\n",
    "\n",
    "if city.title() == \"Delhi\":\n",
    "    print(\"Monunment is 'Red Fort' \")\n",
    "elif city.title() == \"Agra\":\n",
    "    print(\"Monunment is 'Taj Mahal' \")\n",
    "elif city.title() == \"Jaipur\":\n",
    "    print(\"Monunment is 'Jal Mahal' \")\n",
    "else:\n",
    "    print(\"Enter valid city\")"
   ]
  },
  {
   "cell_type": "code",
   "execution_count": 3,
   "id": "e5135062-f6e3-4f4c-9baa-db9da939c275",
   "metadata": {},
   "outputs": [
    {
     "name": "stdin",
     "output_type": "stream",
     "text": [
      "Enter the number  6\n"
     ]
    },
    {
     "name": "stdout",
     "output_type": "stream",
     "text": [
      "2\n"
     ]
    }
   ],
   "source": [
    "# Question 4 Answer :-\n",
    "i = int(input(\"Enter the number \"))\n",
    "result = 0\n",
    "while i>1:\n",
    "    i = i / 3\n",
    "    result = result + 1\n",
    "print(result) \n",
    "\n",
    "      "
   ]
  },
  {
   "cell_type": "code",
   "execution_count": 35,
   "id": "08afc3c8-37ea-4bc1-983c-9e031849d8db",
   "metadata": {},
   "outputs": [
    {
     "name": "stdout",
     "output_type": "stream",
     "text": [
      "Hello everyone\n",
      "Hello everyone\n",
      "Hello everyone\n"
     ]
    }
   ],
   "source": [
    "# Question 5 Answer :-\n",
    "'''Python While Loop is used to execute a block of statements repeatedly until a given condition is satisfied. \n",
    "   And when the condition becomes false, the line immediately after the loop in the program is executed.\n",
    "'''\n",
    "# Python program to illustrate\n",
    "# while loop\n",
    "count = 0\n",
    "while (count < 3):\n",
    "\tcount = count + 1\n",
    "\tprint(\"Hello everyone\")\n",
    "          "
   ]
  },
  {
   "cell_type": "code",
   "execution_count": 38,
   "id": "eb8dbeaf-3382-4492-abca-d0a2a7140069",
   "metadata": {},
   "outputs": [
    {
     "name": "stdout",
     "output_type": "stream",
     "text": [
      "1 \n",
      "1 2 \n",
      "1 2 3 \n",
      "1 2 3 4 \n",
      "1 2 3 4 5 \n"
     ]
    }
   ],
   "source": [
    "#Question 6 Answer (1):-\n",
    "i=1\n",
    "while i<=5:\n",
    "    j=1\n",
    "    while j<=i:\n",
    "        print(j,end=\" \")\n",
    "        j=j+1\n",
    "    print(\"\")\n",
    "    i=i+1"
   ]
  },
  {
   "cell_type": "code",
   "execution_count": 39,
   "id": "54ea9775-21ba-485b-8ac3-90e7fb1a155b",
   "metadata": {},
   "outputs": [
    {
     "name": "stdin",
     "output_type": "stream",
     "text": [
      "Enter number of rows :  5\n"
     ]
    },
    {
     "name": "stdout",
     "output_type": "stream",
     "text": [
      "* \n",
      "* * \n",
      "* * * \n",
      "* * * * \n",
      "* * * * * \n"
     ]
    }
   ],
   "source": [
    "#Question 6 Answer (2):-\n",
    "n = int(input('Enter number of rows : '))\n",
    "\n",
    "i = 1\n",
    "while i <= n :\n",
    "    j = 1\n",
    "    while j <= i:\n",
    "        print(\"*\", end = \" \")\n",
    "        j += 1\n",
    "    print()\n",
    "    i += 1"
   ]
  },
  {
   "cell_type": "code",
   "execution_count": 40,
   "id": "0d61cbe1-0519-4664-894c-02bbd06a8da8",
   "metadata": {},
   "outputs": [
    {
     "name": "stdin",
     "output_type": "stream",
     "text": [
      "Enter number of rows :  5\n"
     ]
    },
    {
     "name": "stdout",
     "output_type": "stream",
     "text": [
      "* * * * * \n",
      "* * * * \n",
      "* * * \n",
      "* * \n",
      "* \n"
     ]
    }
   ],
   "source": [
    "#Question 6 Answer (3):-\n",
    "n = int(input('Enter number of rows : '))\n",
    "\n",
    "i = 1\n",
    "while i <= n :\n",
    "    j = n\n",
    "    while j >= i:\n",
    "        print(\"*\", end = \" \")\n",
    "        j -= 1\n",
    "    print()\n",
    "    i += 1"
   ]
  },
  {
   "cell_type": "code",
   "execution_count": 44,
   "id": "f6aa335f-ffbb-46ca-b8d5-219f3880e636",
   "metadata": {},
   "outputs": [
    {
     "name": "stdout",
     "output_type": "stream",
     "text": [
      "10 9 8 7 6 5 4 3 2 1 "
     ]
    }
   ],
   "source": [
    "#Question 7 Answer :-\n",
    "i = 10\n",
    "while i > 0:\n",
    "    print(i, end = \" \")\n",
    "    i = i - 1"
   ]
  },
  {
   "cell_type": "code",
   "execution_count": 46,
   "id": "13f3b9e5-2ec6-42e0-9d47-f330c3c6565a",
   "metadata": {},
   "outputs": [
    {
     "name": "stdout",
     "output_type": "stream",
     "text": [
      "25 24 23 22 21 20 19 18 17 16 15 14 13 12 11 10 9 8 7 6 5 4 3 2 1 "
     ]
    }
   ],
   "source": [
    "#Question 7 Answer :-\n",
    "i = 25\n",
    "while i > 0:\n",
    "    print(i, end = \" \")\n",
    "    i = i - 1"
   ]
  }
 ],
 "metadata": {
  "kernelspec": {
   "display_name": "Python 3 (ipykernel)",
   "language": "python",
   "name": "python3"
  },
  "language_info": {
   "codemirror_mode": {
    "name": "ipython",
    "version": 3
   },
   "file_extension": ".py",
   "mimetype": "text/x-python",
   "name": "python",
   "nbconvert_exporter": "python",
   "pygments_lexer": "ipython3",
   "version": "3.10.8"
  }
 },
 "nbformat": 4,
 "nbformat_minor": 5
}
