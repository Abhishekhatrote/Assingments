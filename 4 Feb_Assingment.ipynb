{
 "cells": [
  {
   "cell_type": "markdown",
   "id": "9c661587-f0f3-4b52-a431-21b6684e2d16",
   "metadata": {
    "tags": []
   },
   "source": [
    "# Question 1 Answer:"
   ]
  },
  {
   "cell_type": "code",
   "execution_count": 3,
   "id": "7efa1c8b-2537-44c4-bb8b-20d5eaec29d1",
   "metadata": {},
   "outputs": [
    {
     "name": "stdout",
     "output_type": "stream",
     "text": [
      "orignal list of tuples\n",
      "[('Sachin Tendulkar', 34357), ('Ricky Ponting', 27483), ('Jack Kallis', 25534), ('Virat Kohli', 24936)]\n",
      "\n",
      "Sorting the List of tuples:\n",
      "[('Virat Kohli', 24936), ('Jack Kallis', 25534), ('Ricky Ponting', 27483), ('Sachin Tendulkar', 34357)]\n"
     ]
    }
   ],
   "source": [
    "original_listtule=[('Sachin Tendulkar', 34357), ('Ricky Ponting', 27483), ('Jack Kallis', 25534), ('Virat Kohli', 24936)]\n",
    "print(\"orignal list of tuples\")\n",
    "print(original_listtule)\n",
    "\n",
    "original_listtule.sort(key= lambda x:x[1])\n",
    "print(\"\\nSorting the List of tuples:\")\n",
    "print(original_listtule)"
   ]
  },
  {
   "cell_type": "markdown",
   "id": "b409f307-19ba-402d-99e1-46f99d22feb7",
   "metadata": {},
   "source": [
    "# Question 2 Answer:"
   ]
  },
  {
   "cell_type": "code",
   "execution_count": 4,
   "id": "13075f37-4bad-4afb-9d2f-3766676a6af2",
   "metadata": {},
   "outputs": [
    {
     "data": {
      "text/plain": [
       "[1, 4, 9, 16, 25, 36, 49, 64, 81, 100]"
      ]
     },
     "execution_count": 4,
     "metadata": {},
     "output_type": "execute_result"
    }
   ],
   "source": [
    "l = [1, 2, 3, 4, 5, 6, 7, 8, 9, 10]\n",
    "\n",
    "list(map(lambda x:x**2,l))\n"
   ]
  },
  {
   "cell_type": "markdown",
   "id": "41a3cba3-67cf-4b95-a6af-a52b3efeaaaf",
   "metadata": {},
   "source": [
    "# Question 3 Answer:"
   ]
  },
  {
   "cell_type": "code",
   "execution_count": 21,
   "id": "32799572-8e91-46be-8d20-9e0c0763f791",
   "metadata": {},
   "outputs": [
    {
     "data": {
      "text/plain": [
       "('1', '2', '3', '4', '5', '6', '7', '8', '9', '10')"
      ]
     },
     "execution_count": 21,
     "metadata": {},
     "output_type": "execute_result"
    }
   ],
   "source": [
    "s= [1, 2, 3, 4, 5, 6, 7, 8, 9, 10]\n",
    "\n",
    "tuple(map(str,s))\n"
   ]
  },
  {
   "cell_type": "markdown",
   "id": "eae1e9e9-a302-46f7-81c1-e5a3b9fe9661",
   "metadata": {},
   "source": [
    "# Question 4 Answer"
   ]
  },
  {
   "cell_type": "code",
   "execution_count": 25,
   "id": "e3552b5b-b4b9-43cf-9fc3-2b67daa5a0b7",
   "metadata": {},
   "outputs": [
    {
     "data": {
      "text/plain": [
       "620448401733239439360000"
      ]
     },
     "execution_count": 25,
     "metadata": {},
     "output_type": "execute_result"
    }
   ],
   "source": [
    "from functools import reduce\n",
    "\n",
    "num = list(range(1,25))\n",
    "\n",
    "reduce((lambda x,y: x*y),num)\n"
   ]
  },
  {
   "cell_type": "markdown",
   "id": "7f1cdf83-3bb8-4df2-8e24-997cb1906ba4",
   "metadata": {},
   "source": [
    "# Question 5 Answer:"
   ]
  },
  {
   "cell_type": "code",
   "execution_count": 33,
   "id": "f4eee3e6-d7b5-4cd6-b424-6b3e20e3d9aa",
   "metadata": {},
   "outputs": [
    {
     "data": {
      "text/plain": [
       "[6, 60, 90, 120]"
      ]
     },
     "execution_count": 33,
     "metadata": {},
     "output_type": "execute_result"
    }
   ],
   "source": [
    "l = [2, 3, 6, 9, 27, 60, 90, 120, 55, 46]\n",
    "list(filter(lambda x: x%2==0 and x%3==0,l))"
   ]
  },
  {
   "cell_type": "markdown",
   "id": "a8a998e2-148d-46b8-ac4c-d4184f153271",
   "metadata": {},
   "source": [
    "# Question 6 Answer:"
   ]
  },
  {
   "cell_type": "code",
   "execution_count": 37,
   "id": "6b5df159-1ab4-42e7-adfa-3299e17be72d",
   "metadata": {},
   "outputs": [
    {
     "data": {
      "text/plain": [
       "['php', 'aba', 'radar', 'level']"
      ]
     },
     "execution_count": 37,
     "metadata": {},
     "output_type": "execute_result"
    }
   ],
   "source": [
    "l= ['python', 'php', 'aba', 'radar', 'level']\n",
    "\n",
    "list(filter(lambda x: (x == \"\".join(reversed(x))), l))\n"
   ]
  },
  {
   "cell_type": "code",
   "execution_count": null,
   "id": "8e609972-07cf-4727-a36a-f72f43b9c97d",
   "metadata": {},
   "outputs": [],
   "source": []
  }
 ],
 "metadata": {
  "kernelspec": {
   "display_name": "Python 3 (ipykernel)",
   "language": "python",
   "name": "python3"
  },
  "language_info": {
   "codemirror_mode": {
    "name": "ipython",
    "version": 3
   },
   "file_extension": ".py",
   "mimetype": "text/x-python",
   "name": "python",
   "nbconvert_exporter": "python",
   "pygments_lexer": "ipython3",
   "version": "3.10.8"
  }
 },
 "nbformat": 4,
 "nbformat_minor": 5
}
