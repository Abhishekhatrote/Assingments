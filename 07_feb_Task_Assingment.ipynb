{
 "cells": [
  {
   "cell_type": "markdown",
   "id": "e164e55d-cea4-4afd-8d4b-a50d2794a502",
   "metadata": {},
   "source": [
    "# Question 1 Answer:"
   ]
  },
  {
   "cell_type": "code",
   "execution_count": 23,
   "id": "72fbed48-0971-4ef8-9461-1a78eca27834",
   "metadata": {},
   "outputs": [
    {
     "name": "stdin",
     "output_type": "stream",
     "text": [
      "enter the passward GGaa@#$*99\n"
     ]
    },
    {
     "name": "stdout",
     "output_type": "stream",
     "text": [
      "Password is valid\n"
     ]
    }
   ],
   "source": [
    "\n",
    "def password_check(passwd):\n",
    "\t\n",
    "\tSpecialSym =['$', '@', '#', '%',\"&\",\"*\"]\n",
    "\tval = True\n",
    "\t\n",
    "\tif len(passwd) > 10:\n",
    "\t\tprint('length should be at least 10 ')\n",
    "\t\tval = False\n",
    "\t\t\n",
    "\tif len(passwd) < 10:\n",
    "\t\tprint('length should be not be greater than 10')\n",
    "\t\tval = False\n",
    "\t\t\n",
    "\tif not any(char.isdigit() for char in passwd):\n",
    "\t\tprint('Password should have at least one numeral')\n",
    "\t\tval = False\n",
    "\t\t\n",
    "\tif not any(char.isupper() for char in passwd):\n",
    "\t\tprint('Password should have at least one uppercase letter')\n",
    "\t\tval = False\n",
    "\t\t\n",
    "\tif not any(char.islower() for char in passwd):\n",
    "\t\tprint('Password should have at least one lowercase letter')\n",
    "\t\tval = False\n",
    "\t\t\n",
    "\tif not any(char in SpecialSym for char in passwd):\n",
    "\t\tprint('Password should have at least one of the symbols $@#')\n",
    "\t\tval = False\n",
    "\tif val:\n",
    "\t\treturn val\n",
    "\n",
    "\n",
    "def main():\n",
    "\tpasswd = input('enter the passward')\n",
    "\t\n",
    "\tif (password_check(passwd)):\n",
    "\t\tprint(\"Password is valid\")\n",
    "\telse:\n",
    "\t\tprint(\"Invalid Password !!\")\n",
    "\t\t\n",
    "\t\n",
    "if __name__ == '__main__':\n",
    "\tmain()\n"
   ]
  },
  {
   "cell_type": "markdown",
   "id": "81e7ddc3-1d22-4fea-9b3e-ddca7e15e8b7",
   "metadata": {},
   "source": [
    "# Question 2 Answer:"
   ]
  },
  {
   "cell_type": "code",
   "execution_count": 27,
   "id": "c430bed0-450d-4623-a3f4-af7f29a5e47b",
   "metadata": {},
   "outputs": [
    {
     "name": "stdout",
     "output_type": "stream",
     "text": [
      "The original list : ['suraj', 'Abhishek', 'satish', 'Ajit']\n",
      "The list without prefix s : ['Abhishek', 'Ajit']\n",
      "The list with prefix s : ['suraj', 'satish']\n"
     ]
    }
   ],
   "source": [
    "#Check if the string starts with a particular letterY\n",
    "\n",
    "test_list = ['suraj', 'Abhishek', 'satish', 'Ajit']\n",
    " \n",
    "start_letter = 's'\n",
    " \n",
    "print(\"The original list : \" + str(test_list))\n",
    " \n",
    "with_s = [x for x in test_list if x.startswith(start_letter)]\n",
    "without_s = [x for x in test_list if x not in with_s]\n",
    " \n",
    "# print result\n",
    "print(\"The list without prefix s : \" + str(without_s))\n",
    "print(\"The list with prefix s : \" + str(with_s))\n"
   ]
  },
  {
   "cell_type": "code",
   "execution_count": 33,
   "id": "05844a58-d10d-4e8c-b8f7-f9bbce84f97f",
   "metadata": {},
   "outputs": [
    {
     "data": {
      "text/plain": [
       "[False, False, False, True, True, True, False, False, False, True, True, True]"
      ]
     },
     "execution_count": 33,
     "metadata": {},
     "output_type": "execute_result"
    }
   ],
   "source": [
    "#Check if the string is numeric\n",
    "s='abc123def456'\n",
    "[c.isdigit() for c in s]"
   ]
  },
  {
   "cell_type": "code",
   "execution_count": 34,
   "id": "f3279051-6c8b-45f4-b4ce-e7b4ce88e6f1",
   "metadata": {},
   "outputs": [
    {
     "data": {
      "text/plain": [
       "[('orange', 80), ('mango', 99), ('grapes', 1000)]"
      ]
     },
     "execution_count": 34,
     "metadata": {},
     "output_type": "execute_result"
    }
   ],
   "source": [
    "# Sort a list of tuples having fruit names and their quantity. [(\"mango\",99),(\"orange\",80), (\"grapes\", 1000)\n",
    "fruits = [(\"mango\", 99), (\"orange\", 80), (\"grapes\", 1000)]\n",
    "sorted(fruits, key=lambda x: x[1])"
   ]
  },
  {
   "cell_type": "code",
   "execution_count": 35,
   "id": "42ff1bcc-6714-4021-83f9-a93bbf16a5bb",
   "metadata": {},
   "outputs": [
    {
     "data": {
      "text/plain": [
       "[1, 4, 9, 16, 25, 36, 49, 64, 81]"
      ]
     },
     "execution_count": 35,
     "metadata": {},
     "output_type": "execute_result"
    }
   ],
   "source": [
    "#Find the squares of numbers from 1 to 10\n",
    "list(i**2 for i in range(1,10))"
   ]
  },
  {
   "cell_type": "code",
   "execution_count": 38,
   "id": "f01c0048-cff8-41aa-b9af-366b3c8a3e65",
   "metadata": {},
   "outputs": [
    {
     "data": {
      "text/plain": [
       "[1, 8, 27, 64, 125, 216, 343, 512, 729, 1000]"
      ]
     },
     "execution_count": 38,
     "metadata": {},
     "output_type": "execute_result"
    }
   ],
   "source": [
    "# Find the cube root of numbers from 1 to 10\n",
    "list(i*i*i for i in range(1, 11))"
   ]
  },
  {
   "cell_type": "code",
   "execution_count": 54,
   "id": "da23a1bd-4fac-44b2-a283-019bc2d8f37b",
   "metadata": {},
   "outputs": [
    {
     "data": {
      "text/plain": [
       "[2, 4, 6]"
      ]
     },
     "execution_count": 54,
     "metadata": {},
     "output_type": "execute_result"
    }
   ],
   "source": [
    "# number is even\n",
    "l = [1, 2, 3, 4, 5, 6]\n",
    "list(filter(lambda x : x % 2 == 0 , l))\n"
   ]
  },
  {
   "cell_type": "code",
   "execution_count": 57,
   "id": "dc4aaccb-1379-4bc6-ad25-100cc4fb4174",
   "metadata": {},
   "outputs": [
    {
     "data": {
      "text/plain": [
       "[1, 3, 5, 7, 9]"
      ]
     },
     "execution_count": 57,
     "metadata": {},
     "output_type": "execute_result"
    }
   ],
   "source": [
    "#Filter odd numbers from the given list.\n",
    "l= [1,2,3,4,5,6,7,8,9,10]\n",
    "list(filter(lambda x : x % 2 != 0 , l))"
   ]
  },
  {
   "cell_type": "code",
   "execution_count": 60,
   "id": "5cce4e7f-6961-4106-9c5b-5c1b7f0098a1",
   "metadata": {},
   "outputs": [
    {
     "name": "stdout",
     "output_type": "stream",
     "text": [
      "the origanal list is  [1, 2, 3, 4, 5, 6, -1, -2, -3, -4, -5, 0]\n",
      "the sorted list is  [1, 2, 3, 4, 5, 6, -5, -4, -3, -2, -1]\n"
     ]
    }
   ],
   "source": [
    "#Sort a list of integers into positive and negative integers lists.\n",
    "l = [1,2,3,4,5,6,-1,-2,-3,-4,-5,0]\n",
    "\n",
    "print(\"the origanal list is \",l)\n",
    "res = sorted(filter(lambda x: x > 0, l)) + sorted(filter(lambda x: x < 0, l))\n",
    "print(\"the sorted list is \",res)"
   ]
  },
  {
   "cell_type": "code",
   "execution_count": null,
   "id": "b3e41a33-a6e6-4578-8791-4dbac65f9eb9",
   "metadata": {},
   "outputs": [],
   "source": []
  }
 ],
 "metadata": {
  "kernelspec": {
   "display_name": "Python 3 (ipykernel)",
   "language": "python",
   "name": "python3"
  },
  "language_info": {
   "codemirror_mode": {
    "name": "ipython",
    "version": 3
   },
   "file_extension": ".py",
   "mimetype": "text/x-python",
   "name": "python",
   "nbconvert_exporter": "python",
   "pygments_lexer": "ipython3",
   "version": "3.10.8"
  }
 },
 "nbformat": 4,
 "nbformat_minor": 5
}
