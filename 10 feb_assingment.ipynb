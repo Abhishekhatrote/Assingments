{
 "cells": [
  {
   "cell_type": "code",
   "execution_count": 1,
   "id": "a4b4ece3-6509-4164-8bc2-383f95529614",
   "metadata": {},
   "outputs": [],
   "source": [
    "# Question 1 answer:\n"
   ]
  },
  {
   "cell_type": "code",
   "execution_count": null,
   "id": "0f4af1d8-5ec3-462c-b5b9-d84da6b15631",
   "metadata": {},
   "outputs": [],
   "source": [
    "\"\"\"\n",
    "In Python, the open function is used to open a file. The syntax of the open function is as follows:\n",
    "open(file, mode='r', buffering=-1, encoding=None, errors=None, newline=None, closefd=True, opener=None)\n",
    "In Python, the open function is used to open a file. The syntax of the open function is as follows:\n",
    "\n",
    "where file is the name of the file to be opened and mode specifies the mode in which the file should be opened.\n",
    "\n",
    "The different modes of opening a file in Python are:\n",
    "\n",
    "'r' (Read Only) : This is the default mode. It opens the file for reading only. If the file does not exist, an error is raised.\n",
    "\n",
    "'w' (Write Only) : This mode opens the file for writing only. If the file already exists, its contents are truncated, and if the file does not exist, a new file is created.\n",
    "\n",
    "'a' (Append Only) : This mode opens the file for writing only, and the data is appended to the end of the file. If the file does not exist, a new file is created.\n",
    "\n",
    "'x' (Exclusive Creation) : This mode is used to create a new file, and it raises an error if the file already exists.\n",
    "\n",
    "'b' (Binary Mode) : This mode is used to open a binary file, such as an image or a video file. This mode is often used with other modes, such as 'rb' for reading a binary file and 'wb' for writing a binary file.\n",
    "\n",
    "'t' (Text Mode) : This mode is used to open a text file. This mode is the default mode, and it is often used with other modes, such as 'rt' for reading a text file and 'wt' for writing a text file.\n",
    "\n",
    "'+' (Read and Write) : This mode opens the file for both reading and writing. If the file does not exist, an error is raised.\n",
    "\n",
    "\"\"\""
   ]
  },
  {
   "cell_type": "code",
   "execution_count": null,
   "id": "2822d1d0-d3dd-4bdc-8ac2-b6e9241da7a2",
   "metadata": {},
   "outputs": [],
   "source": [
    "# Question 2 answer:"
   ]
  },
  {
   "cell_type": "code",
   "execution_count": null,
   "id": "73e6c93d-5964-4590-9cd3-5fe27c74260c",
   "metadata": {},
   "outputs": [],
   "source": [
    "\"\"\"\n",
    "The close() function is used to close a file in Python. When a file is opened, the operating system reserves some resources, such as memory, for the file. By closing a file,\n",
    "the operating system releases these resources, making them available for other tasks.\n",
    "Closing a file is also important for ensuring the integrity of the data in the file.\n",
    "When a file is opened in write mode, any changes made to the file are buffered in memory.\n",
    "If the file is not closed, the changes may not be flushed to the disk and may be lost in case of a system crash or power failure. \n",
    "Closing a file ensures that all the changes are saved to the disk.\n",
    "In addition, closing a file also helps to prevent data corruption, as the file may become inaccessible if multiple programs try to access the same file simultaneously.\n",
    "In summary, it is a best practice to always close a file after it has been used, to release system resources, ensure data integrity, and prevent data corruption.\n",
    "\"\"\""
   ]
  },
  {
   "cell_type": "code",
   "execution_count": null,
   "id": "dd5a914e-1487-4adb-9914-66f974ffed1c",
   "metadata": {},
   "outputs": [],
   "source": [
    "# Question 3 answer:"
   ]
  },
  {
   "cell_type": "code",
   "execution_count": 2,
   "id": "a134447d-ff0e-4896-9129-01fb63cfec05",
   "metadata": {},
   "outputs": [
    {
     "name": "stdout",
     "output_type": "stream",
     "text": [
      "I want to become a Data Scientist\n"
     ]
    }
   ],
   "source": [
    "# Open the file in write mode\n",
    "file = open(\"myfile.txt\", \"w\")\n",
    "\n",
    "# Write a sentence in the file\n",
    "file.write(\"I want to become a Data Scientist\")\n",
    "\n",
    "# Close the file\n",
    "file.close()\n",
    "\n",
    "# Open the file in read mode\n",
    "file = open(\"myfile.txt\", \"r\")\n",
    "\n",
    "# Read the contents of the file\n",
    "content = file.read()\n",
    "\n",
    "# Print the contents of the file\n",
    "print(content)\n",
    "\n",
    "# Close the file\n",
    "file.close()\n",
    "\n",
    "\n"
   ]
  },
  {
   "cell_type": "code",
   "execution_count": null,
   "id": "b16b809c-9bd8-4590-b4cc-b7c856b5ff3c",
   "metadata": {},
   "outputs": [],
   "source": [
    "# Question 4 answer:"
   ]
  },
  {
   "cell_type": "code",
   "execution_count": 3,
   "id": "851e1a57-7080-42de-9d89-c411120b02a0",
   "metadata": {},
   "outputs": [
    {
     "name": "stdout",
     "output_type": "stream",
     "text": [
      "I want to become a Data Scientist\n"
     ]
    }
   ],
   "source": [
    "#read(): This method reads the entire contents of a file and returns them as a single string. The syntax is as follows:\n",
    "# Open the file in read mode\n",
    "file = open(\"myfile.txt\", \"r\")\n",
    "\n",
    "# Read the contents of the file\n",
    "content = file.read()\n",
    "\n",
    "# Print the contents of the file\n",
    "print(content)\n",
    "\n",
    "# Close the file\n",
    "file.close()\n"
   ]
  },
  {
   "cell_type": "code",
   "execution_count": 4,
   "id": "f16ddbd6-40d6-4917-812b-b511c8bf7c07",
   "metadata": {},
   "outputs": [
    {
     "name": "stdout",
     "output_type": "stream",
     "text": [
      "I want to become a Data Scientist\n"
     ]
    }
   ],
   "source": [
    "#readline(): This method reads a single line from a file and returns it as a string. The syntax is as follows:\n",
    "# Open the file in read mode\n",
    "file = open(\"myfile.txt\", \"r\")\n",
    "\n",
    "# Read the first line of the file\n",
    "line = file.readline()\n",
    "\n",
    "# Print the first line of the file\n",
    "print(line)\n",
    "\n",
    "# Close the file\n",
    "file.close()\n",
    "\n"
   ]
  },
  {
   "cell_type": "code",
   "execution_count": 5,
   "id": "d2fc3567-263b-403d-8214-85f451aaba08",
   "metadata": {},
   "outputs": [
    {
     "name": "stdout",
     "output_type": "stream",
     "text": [
      "I want to become a Data Scientist\n"
     ]
    }
   ],
   "source": [
    "#readlines(): This method reads all the lines of a file and returns them as a list of strings, where each string is a single line of the file. The syntax is as follows\n",
    "# Open the file in read mode\n",
    "file = open(\"myfile.txt\", \"r\")\n",
    "\n",
    "# Read all the lines of the file\n",
    "lines = file.readlines()\n",
    "\n",
    "# Print all the lines of the file\n",
    "for line in lines:\n",
    "    print(line)\n",
    "\n",
    "# Close the file\n",
    "file.close()\n",
    "\n"
   ]
  },
  {
   "cell_type": "code",
   "execution_count": 6,
   "id": "b5e819b0-6dba-4830-ba6f-caa9e9ddf773",
   "metadata": {},
   "outputs": [],
   "source": [
    "# Question 5 answer:"
   ]
  },
  {
   "cell_type": "code",
   "execution_count": 7,
   "id": "42ee001c-c05e-43d6-8a01-e29332dcc405",
   "metadata": {},
   "outputs": [
    {
     "data": {
      "text/plain": [
       "'\\nThe with statement is used in Python to provide a convenient and efficient way to manage resources, such as files.\\nWhen used with the open() function, it creates a context in which the file is automatically closed after it has been used.\\nThis eliminates the need to explicitly close the file, even in case of exceptions.\\n\\n\\nwhere myfile.txt is the name of the file, \\nmode is the mode in which the file should be opened (e.g., \"r\" for read mode, \"w\" for write mode), and file is the file object.\\nThe advantage of using the with statement with open() is that it ensures that the file is properly closed,\\neven in case of exceptions. When the code block within the with statement is finished, \\nthe file is automatically closed, even if an exception is raised. \\nThis eliminates the need to explicitly close the file and helps to prevent resource leaks and data corruption.\\n\\n'"
      ]
     },
     "execution_count": 7,
     "metadata": {},
     "output_type": "execute_result"
    }
   ],
   "source": [
    "\"\"\"\n",
    "The with statement is used in Python to provide a convenient and efficient way to manage resources, such as files.\n",
    "When used with the open() function, it creates a context in which the file is automatically closed after it has been used.\n",
    "This eliminates the need to explicitly close the file, even in case of exceptions.\n",
    "\n",
    "\n",
    "where myfile.txt is the name of the file, \n",
    "mode is the mode in which the file should be opened (e.g., \"r\" for read mode, \"w\" for write mode), and file is the file object.\n",
    "The advantage of using the with statement with open() is that it ensures that the file is properly closed,\n",
    "even in case of exceptions. When the code block within the with statement is finished, \n",
    "the file is automatically closed, even if an exception is raised. \n",
    "This eliminates the need to explicitly close the file and helps to prevent resource leaks and data corruption.\n",
    "\n",
    "\"\"\""
   ]
  },
  {
   "cell_type": "code",
   "execution_count": 8,
   "id": "215b3a7e-2fcb-41a3-9735-2836374f9fa2",
   "metadata": {},
   "outputs": [],
   "source": [
    "# Question 6 answer:"
   ]
  },
  {
   "cell_type": "code",
   "execution_count": null,
   "id": "eef3f96a-77f6-4a3d-9cc4-f37ffe32d627",
   "metadata": {},
   "outputs": [],
   "source": [
    "# write(): This function writes a single string to a file. The syntax is as follows:\n",
    "\n",
    "# Use the with statement with open()\n",
    "with open(\"myfile.txt\", \"w\") as file:\n",
    "    # Write a string to the file\n",
    "    file.write(\"I want to become a Data Scientist\")\n"
   ]
  },
  {
   "cell_type": "code",
   "execution_count": 9,
   "id": "588282d3-e67f-4da6-a706-d9b04ff05976",
   "metadata": {},
   "outputs": [],
   "source": [
    "#writelines(): This function writes a list of strings to a file. The syntax is as follows:\n",
    "# Use the with statement with open()\n",
    "with open(\"myfile.txt\", \"w\") as file:\n",
    "    # Write a list of strings to the file\n",
    "    file.writelines([\"I want to become a Data Scientist\\n\", \"Data Science is the future\\n\"])\n",
    "\n"
   ]
  },
  {
   "cell_type": "code",
   "execution_count": null,
   "id": "5529b61e-097a-4021-bcd3-0d333f86394c",
   "metadata": {},
   "outputs": [],
   "source": []
  }
 ],
 "metadata": {
  "kernelspec": {
   "display_name": "Python 3 (ipykernel)",
   "language": "python",
   "name": "python3"
  },
  "language_info": {
   "codemirror_mode": {
    "name": "ipython",
    "version": 3
   },
   "file_extension": ".py",
   "mimetype": "text/x-python",
   "name": "python",
   "nbconvert_exporter": "python",
   "pygments_lexer": "ipython3",
   "version": "3.10.8"
  }
 },
 "nbformat": 4,
 "nbformat_minor": 5
}
