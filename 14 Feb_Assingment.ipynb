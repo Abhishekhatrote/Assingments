{
 "cells": [
  {
   "cell_type": "code",
   "execution_count": null,
   "id": "5a6bb99d-c32f-45b3-b511-1afaf35cf5ec",
   "metadata": {},
   "outputs": [],
   "source": [
    "# Question 1 Answer :\n"
   ]
  },
  {
   "cell_type": "code",
   "execution_count": null,
   "id": "edd30559-d740-4df6-b329-5f083d7d24f6",
   "metadata": {},
   "outputs": [],
   "source": [
    "\"\"\"\n",
    "In Python, multithreading refers to the ability to run multiple \n",
    "threads (lightweight subprocesses) within a single process. \n",
    "Each thread runs independently, allowing multiple tasks to be executed concurrently.\n",
    "Multithreading is used in Python to achieve parallelism and to increase the efficiency \n",
    "of programs that perform multiple tasks. \n",
    "For example, if a program needs to perform I/O operations, \n",
    "such as reading or writing files, it can benefit from multithreading \n",
    "by allowing one thread to perform the I/O while another thread continues to \n",
    "execute other parts of the program.\n",
    "The module used to handle threads in Python is called \"threading\". \n",
    "The threading module provides a simple way to create and manage threads in Python. \n",
    "It allows you to create threads, start them, stop them, and wait for them to finish. \n",
    "It also provides synchronization primitives such as locks and semaphores,\n",
    "which can be used to coordinate access to shared resources between threads.\n",
    "\n",
    "\"\"\""
   ]
  },
  {
   "cell_type": "code",
   "execution_count": null,
   "id": "b13b03f1-3aee-4996-80fe-5cca886b26b6",
   "metadata": {},
   "outputs": [],
   "source": [
    "# Question 2 Answer :"
   ]
  },
  {
   "cell_type": "code",
   "execution_count": 1,
   "id": "0a7824c9-fd87-4d3c-bdd1-d4e490021acb",
   "metadata": {},
   "outputs": [
    {
     "name": "stdout",
     "output_type": "stream",
     "text": [
      "This is my thread!\n",
      "Active threads: 8\n",
      "Current thread: <_MainThread(MainThread, started 139689541027648)>\n",
      "All threads: [<_MainThread(MainThread, started 139689541027648)>, <Thread(IOPub, started daemon 139689470498368)>, <Heartbeat(Heartbeat, started daemon 139689462105664)>, <Thread(Thread-3 (_watch_pipe_fd), started daemon 139689231111744)>, <Thread(Thread-4 (_watch_pipe_fd), started daemon 139689222719040)>, <ControlThread(Control, started daemon 139689214326336)>, <HistorySavingThread(IPythonHistorySavingThread, started 139689205933632)>, <ParentPollerUnix(Thread-2, started daemon 139689197540928)>]\n"
     ]
    }
   ],
   "source": [
    "\"\"\"\n",
    "The \"threading\" module in Python is used to create and manage threads. \n",
    "It provides a way to run multiple threads simultaneously, \n",
    "allowing programs to execute multiple tasks in parallel and take advantage of multiple cores in a CPU.\n",
    "Here are the use cases for the following functions in the \"threading\" module:\n",
    "\n",
    "1)active_count(): This function returns the number of thread objects that are currently active. \n",
    "This can be useful for monitoring the number of threads that are running in a program at any given time.\n",
    "\n",
    "2)current_thread(): This function returns a reference to the current thread object. \n",
    "This can be useful for identifying the thread that is currently executing and for accessing its attributes.\n",
    "\n",
    "3)enumerate(): This function returns a list of all thread objects that are currently active. \n",
    "This can be useful for monitoring the state of all threads in a program and for accessing their attributes. \n",
    "The returned list includes the main thread as well as any active daemon threads.\n",
    "\"\"\"\n",
    "import threading\n",
    "\n",
    "def my_function():\n",
    "    print(\"This is my thread!\")\n",
    "\n",
    "# create a new thread\n",
    "t = threading.Thread(target=my_function)\n",
    "t.start()\n",
    "\n",
    "# use threading functions to monitor the thread\n",
    "print(\"Active threads:\", threading.active_count())\n",
    "print(\"Current thread:\", threading.current_thread())\n",
    "print(\"All threads:\", threading.enumerate())\n"
   ]
  },
  {
   "cell_type": "code",
   "execution_count": null,
   "id": "727ac929-c0a7-4f1c-b297-5d09a3c861ba",
   "metadata": {},
   "outputs": [],
   "source": [
    "# Question 3 Answer :"
   ]
  },
  {
   "cell_type": "code",
   "execution_count": 2,
   "id": "6a76d6b4-b13b-4383-88a2-709c75c97d6a",
   "metadata": {},
   "outputs": [
    {
     "name": "stdout",
     "output_type": "stream",
     "text": [
      "1\n",
      "2\n",
      "3\n",
      "4\n",
      "5\n",
      "6\n",
      "7\n",
      "8\n",
      "9\n",
      "10\n",
      "Is thread alive? False\n"
     ]
    }
   ],
   "source": [
    "\"\"\"\n",
    "In the \"threading\" module of Python, the following functions are related to creating and managing threads:\n",
    "\n",
    "1)run(): This function is called when a thread is started using the start() method. \n",
    "It is the entry point for the thread's activity. When a new thread is created, \n",
    "you can subclass the Thread class and override the run() method to define what the thread should do.\n",
    "\n",
    "2)start(): This function starts the thread's activity. \n",
    "It initializes the thread and calls the run() method to start the execution of the thread. \n",
    "The start() method must be called before the thread will actually run.\n",
    "\n",
    "3)join(): This function blocks the calling thread until the thread whose join() \n",
    "method is called has finished executing. This can be used to synchronize the activity of multiple threads, \n",
    "by ensuring that one thread has finished its work before another thread begins.\n",
    "\n",
    "4)is_alive(): This function returns a boolean value indicating whether the thread is alive or not. \n",
    "A thread is considered alive if it has been started but has not yet finished executing.\n",
    "\"\"\"\n",
    "import threading\n",
    "import time\n",
    "\n",
    "def print_numbers():\n",
    "    for i in range(1, 11):\n",
    "        print(i)\n",
    "        time.sleep(1)\n",
    "\n",
    "# Create a new thread\n",
    "t = threading.Thread(target=print_numbers)\n",
    "\n",
    "# Start the thread\n",
    "t.start()\n",
    "\n",
    "# Wait for the thread to finish\n",
    "t.join()\n",
    "\n",
    "# Check if the thread is alive\n",
    "print(\"Is thread alive?\", t.is_alive())\n",
    "\n"
   ]
  },
  {
   "cell_type": "code",
   "execution_count": null,
   "id": "625ea6ce-d9aa-48af-bb20-488e092baa01",
   "metadata": {},
   "outputs": [],
   "source": [
    "# Question 4 Answer :"
   ]
  },
  {
   "cell_type": "code",
   "execution_count": 4,
   "id": "398845d1-c1dc-4d46-88d1-b36b879cf6d7",
   "metadata": {},
   "outputs": [
    {
     "name": "stdout",
     "output_type": "stream",
     "text": [
      "1 squared is 1\n",
      "2 squared is 4\n",
      "3 squared is 9\n",
      "4 squared is 16\n",
      "5 squared is 25\n",
      "6 squared is 36\n",
      "7 squared is 49\n",
      "8 squared is 64\n",
      "9 squared is 81\n",
      "10 squared is 100\n",
      "1 cubed is 1\n",
      "2 cubed is 8\n",
      "3 cubed is 27\n",
      "4 cubed is 64\n",
      "5 cubed is 125\n",
      "6 cubed is 216\n",
      "7 cubed is 343\n",
      "8 cubed is 512\n",
      "9 cubed is 729\n",
      "10 cubed is 1000\n"
     ]
    }
   ],
   "source": [
    "import threading\n",
    "\n",
    "def print_squares():\n",
    "    for i in range(1, 11):\n",
    "        print(f\"{i} squared is {i*i}\")\n",
    "\n",
    "def print_cubes():\n",
    "    for i in range(1, 11):\n",
    "        print(f\"{i} cubed is {i*i*i}\")\n",
    "\n",
    "# Create two new threads\n",
    "t1 = threading.Thread(target=print_squares)\n",
    "t2 = threading.Thread(target=print_cubes)\n",
    "\n",
    "# Start the threads\n",
    "t1.start()\n",
    "t2.start()\n",
    "\n",
    "# Wait for the threads to finish\n",
    "t1.join()\n",
    "t2.join()\n",
    "\n"
   ]
  },
  {
   "cell_type": "code",
   "execution_count": null,
   "id": "595c3d4c-3127-4a56-b20c-5771459e3e4f",
   "metadata": {},
   "outputs": [],
   "source": [
    "# Question 5 Answer :"
   ]
  },
  {
   "cell_type": "code",
   "execution_count": null,
   "id": "17fccc30-02af-4bc4-b7a8-a7df2b55e267",
   "metadata": {},
   "outputs": [],
   "source": [
    "\"\"\"\n",
    "\n",
    "Multithreading has several advantages and disadvantages, which are listed below.\n",
    "\n",
    "Advantages:\n",
    "\n",
    "1)Faster Execution: Multithreading can help programs to run faster by executing different parts of the program simultaneously. \n",
    "This can be especially useful for programs that perform complex calculations or need to process large amounts of data.\n",
    "\n",
    "2)Resource Sharing: Multithreading allows threads to share resources such as memory, file handles, and network connections, \n",
    "which can reduce the overall resource consumption of the program.\n",
    "\n",
    "3)Improved Responsiveness: Multithreading can improve the responsiveness of a program by allowing it to perform \n",
    "tasks in the background while still responding to user input.\n",
    "\n",
    "4)Improved Modularity: Multithreading can make it easier to \n",
    "design and implement complex programs by allowing different parts of the program to be executed in parallel.\n",
    "\n",
    "Disadvantages:\n",
    "\n",
    "1)Increased Complexity: Multithreading can make programs more complex and harder to understand and debug, \n",
    "as it introduces additional control flows and synchronization requirements.\n",
    "\n",
    "2)Synchronization Overhead: Multithreading requires synchronization mechanisms such as locks and semaphores, \n",
    "which can introduce overhead and potentially reduce the performance of the program.\n",
    "\n",
    "3)Increased Memory Overhead: Multithreading can require additional memory for the creation and management of threads and synchronization primitives, \n",
    "which can increase the overall memory consumption of the program.\n",
    "\n",
    "4)Deadlocks and Race Conditions: Multithreading can introduce synchronization issues such as deadlocks and race conditions, \n",
    "which can be difficult to detect and debug.\n",
    "\n",
    "Overall, multithreading can be a powerful tool for improving the performance and responsiveness of programs, \n",
    "but it requires careful design and management to avoid synchronization issues and other problems.\n",
    "\"\"\""
   ]
  },
  {
   "cell_type": "code",
   "execution_count": null,
   "id": "47268675-8406-4672-bc02-43271555e269",
   "metadata": {},
   "outputs": [],
   "source": [
    "# Question 6 Answer :"
   ]
  },
  {
   "cell_type": "code",
   "execution_count": null,
   "id": "e64928df-3d89-45b2-9e86-800b84c8bb4a",
   "metadata": {},
   "outputs": [],
   "source": [
    "\"\"\"\n",
    "Deadlocks and race conditions are two common synchronization issues \n",
    "that can occur when multiple threads access shared resources concurrently.\n",
    "\n",
    "Deadlock is a situation where two or more threads are blocked and waiting for\n",
    "each other to release the resources that they need to proceed. \n",
    "In a deadlock, no thread can make progress, and the program appears to be stuck. Deadlocks can occur \n",
    "when two or more threads acquire locks on resources in a different order, \n",
    "or when a thread acquires a lock and then tries to acquire another lock while holding the first lock. \n",
    "Deadlocks can be difficult to detect and debug, and can result in programs that appear to be unresponsive or hang.\n",
    "\n",
    "Race conditions occur when the behavior of a program depends on the relative timing of events that occur in different threads. \n",
    "In a race condition, \n",
    "the behavior of a program can be unpredictable and non-deterministic. For example,\n",
    "if two threads are updating the same shared variable, \n",
    "the final value of the variable will depend on the order in which the threads execute. \n",
    "If the threads are not properly synchronized, \n",
    "the result may be incorrect or inconsistent. \n",
    "Race conditions can be difficult to detect and reproduce, and can result in programs that produce incorrect or unexpected results.\n",
    "\n",
    "To avoid deadlocks and race conditions, it is important to use proper synchronization mechanisms such as locks,\n",
    "semaphores, and barriers, and to ensure that threads acquire and release resources in a consistent order. \n",
    "It is also important to avoid holding locks for long periods of time,\n",
    "and to design programs in a way that minimizes the need for shared resources. \n",
    "Proper testing and debugging techniques can also help to identify and resolve synchronization issues.\n",
    "\"\"\""
   ]
  }
 ],
 "metadata": {
  "kernelspec": {
   "display_name": "Python 3 (ipykernel)",
   "language": "python",
   "name": "python3"
  },
  "language_info": {
   "codemirror_mode": {
    "name": "ipython",
    "version": 3
   },
   "file_extension": ".py",
   "mimetype": "text/x-python",
   "name": "python",
   "nbconvert_exporter": "python",
   "pygments_lexer": "ipython3",
   "version": "3.10.8"
  }
 },
 "nbformat": 4,
 "nbformat_minor": 5
}
