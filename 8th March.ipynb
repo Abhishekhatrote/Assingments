{
 "cells": [
  {
   "cell_type": "code",
   "execution_count": null,
   "id": "ee9e1d1c-5f1f-4334-8b22-d669c718557f",
   "metadata": {},
   "outputs": [],
   "source": [
    "# Q 1 Answer 1:\n",
    "\"\"\"\n",
    "The probability density function (PDF) is a mathematical function that describes the likelihood of a continuous random variable taking on a particular value or range of values. \n",
    "In other words, it gives the probability distribution of a continuous random variable.\n",
    "\n",
    "The PDF is used in probability theory and statistics to describe the probability of a random variable being within a certain range of values. \n",
    "The PDF is defined as the derivative of the cumulative distribution function (CDF),\n",
    "which is the probability that the random variable takes a value less than or equal to a given value.\n",
    "\n",
    "The PDF is often denoted as f(x), where x is the variable of interest. \n",
    "The PDF has the following properties:\n",
    "\n",
    "1)The area under the curve of the PDF is equal to 1, \n",
    "which means that the total probability of all possible outcomes is equal to 1.\n",
    "\n",
    "2)The PDF can take on values greater than 0 for any value of x, but it cannot be negative.\n",
    "\n",
    "3)The probability of a continuous random variable taking on any specific value is zero. \n",
    "Instead, we must consider the probability of the random variable taking on a range of values, \n",
    "which is given by the integral of the PDF over that range.\n",
    "\n",
    "Overall, the PDF is a useful tool for understanding the distribution of continuous random\n",
    "variables and for calculating probabilities for a range of values.\n",
    "\n",
    "\"\"\""
   ]
  },
  {
   "cell_type": "code",
   "execution_count": null,
   "id": "37afb5d6-4682-4c86-aa9d-28145b3b9ce1",
   "metadata": {},
   "outputs": [],
   "source": [
    "# Q 2 Answer 2:\n",
    "\"\"\"\n",
    "There are several types of probability distributions in statistics, but some of the most common ones are:\n",
    "\n",
    "1)Normal Distribution: The normal distribution is a continuous probability distribution that is widely used in statistics to describe real-world phenomena such as measurements, errors, and IQ scores.\n",
    "It has a bell-shaped curve and is characterized by its mean and standard deviation.\n",
    "\n",
    "2)Binomial Distribution: The binomial distribution is a discrete probability distribution that describes the number of successes in a fixed number of independent trials with a constant probability of success. \n",
    "It is often used in experiments with two possible outcomes, such as flipping a coin or rolling a die.\n",
    "\n",
    "3)Poisson Distribution: The Poisson distribution is a discrete probability distribution that is used to model the number of rare events occurring in a fixed time or space interval. \n",
    "It is often used in fields such as biology, physics, and finance.\n",
    "\n",
    "4)Exponential Distribution: The exponential distribution is a continuous probability distribution that describes the time between events in a Poisson process. \n",
    "It is often used in reliability analysis and queuing theory.\n",
    "\n",
    "5)Uniform Distribution: The uniform distribution is a continuous probability distribution that describes the probability of a random variable taking on any value within a specified range.\n",
    "It is often used in simulations and modeling.\n",
    "\n",
    "6)Gamma Distribution: The gamma distribution is a continuous probability distribution that is used to model the waiting time for a specified number of events to occur in a Poisson process. \n",
    "It is often used in reliability analysis and queuing theory.\n",
    "\n",
    "These are just a few of the many types of probability distributions used in statistics. \n",
    "The choice of distribution depends on the nature of the data being analyzed and the specific research question being addressed.\n",
    "\"\"\""
   ]
  },
  {
   "cell_type": "code",
   "execution_count": 2,
   "id": "ec429662-2fc8-4423-9a84-e4c38b8b15ad",
   "metadata": {},
   "outputs": [
    {
     "name": "stdout",
     "output_type": "stream",
     "text": [
      "0.48394144903828673\n"
     ]
    }
   ],
   "source": [
    "# Q 3 Answer 3:\n",
    "import math\n",
    "\n",
    "def normal_pdf(x, mean, std_dev):\n",
    "    \"\"\"\n",
    "    Calculates the probability density function (PDF) of a normal distribution\n",
    "    at a given point x, given its mean and standard deviation.\n",
    "    \n",
    "    Parameters:\n",
    "    x (float): The point at which to evaluate the PDF.\n",
    "    mean (float): The mean of the normal distribution.\n",
    "    std_dev (float): The standard deviation of the normal distribution.\n",
    "    \n",
    "    Returns:\n",
    "    The PDF value at the given point x.\n",
    "    \"\"\"\n",
    "    coefficient = 1.0 / (std_dev * math.sqrt(2 * math.pi))\n",
    "    exponent = math.exp(-0.5 * ((x - mean) / std_dev) ** 2)\n",
    "    pdf = coefficient * exponent\n",
    "    return pdf\n",
    "pdf_value = normal_pdf(3.5, 4, 0.5)\n",
    "print(pdf_value)\n"
   ]
  },
  {
   "cell_type": "code",
   "execution_count": 3,
   "id": "6d75cdb2-ebef-4973-8464-658cf72d3c23",
   "metadata": {},
   "outputs": [
    {
     "data": {
      "text/plain": [
       "'\\nThe Binomial distribution has the following properties:\\n\\n1)The binomial distribution describes the probability of a number of successes in a fixed number of independent trials, with a constant probability of success on each trial.\\n2)The trials must be independent, meaning that the outcome of one trial does not affect the outcome of the others.\\n3)There are only two possible outcomes on each trial, which are usually denoted as success and failure.\\nThe probability of success on each trial must be constant across all trials.\\n4)The random variable being counted is discrete.\\n\\n\\nHere are two examples of events where the Binomial distribution can be applied:\\n\\n1A manufacturing company produces light bulbs, and a quality control inspector checks a random sample of 20 bulbs for defects. The probability of any given bulb having a defect is 0.05. We can use the binomial distribution to determine the probability of finding a specific number of defective bulbs in the sample, such as exactly two or at most five.\\n\\nA baseball player goes up to bat 100 times during a season. The probability of the player getting a hit on any given at-bat is 0.25. We can use the binomial distribution to determine the probability of the player getting a certain number of hits during the season, such as at least 20 or exactly 30.\\n'"
      ]
     },
     "execution_count": 3,
     "metadata": {},
     "output_type": "execute_result"
    }
   ],
   "source": [
    "# Q 4 Answer 4:\n",
    "\"\"\"\n",
    "The Binomial distribution has the following properties:\n",
    "\n",
    "1)The binomial distribution describes the probability of a number of successes in a fixed number of independent trials, with a constant probability of success on each trial.\n",
    "2)The trials must be independent, meaning that the outcome of one trial does not affect the outcome of the others.\n",
    "3)There are only two possible outcomes on each trial, which are usually denoted as success and failure.\n",
    "The probability of success on each trial must be constant across all trials.\n",
    "4)The random variable being counted is discrete.\n",
    "\n",
    "\n",
    "Here are two examples of events where the Binomial distribution can be applied:\n",
    "\n",
    "1) manufacturing company produces light bulbs, and a quality control inspector checks a random sample of 20 bulbs for defects. \n",
    "The probability of any given bulb having a defect is 0.05. \n",
    "We can use the binomial distribution to determine the probability of finding a specific number of defective bulbs in the sample,\n",
    "such as exactly two or at most five.\n",
    "\n",
    "2)A baseball player goes up to bat 100 times during a season. \n",
    "The probability of the player getting a hit on any given at-bat is 0.25.\n",
    "We can use the binomial distribution to determine the probability of the player getting a certain number of hits during the season,\n",
    "such as at least 20 or exactly 30.\n",
    "\"\"\""
   ]
  },
  {
   "cell_type": "code",
   "execution_count": 4,
   "id": "c17a1c49-daf2-4b2a-893c-ab6a7a6b5965",
   "metadata": {},
   "outputs": [
    {
     "data": {
      "image/png": "[encoded data removed]",
      "text/plain": [
       "<Figure size 640x480 with 1 Axes>"
      ]
     },
     "metadata": {},
     "output_type": "display_data"
    }
   ],
   "source": [
    "# Q 5 Answer 5:\n",
    "import numpy as np\n",
    "import matplotlib.pyplot as plt\n",
    "\n",
    "# Generate random sample of size 1000 from binomial distribution with p = 0.4\n",
    "sample = np.random.binomial(n=1, p=0.4, size=1000)\n",
    "\n",
    "# Plot histogram of sample\n",
    "plt.hist(sample, bins=2, alpha=0.5)\n",
    "plt.xlabel('Success/Failure')\n",
    "plt.ylabel('Frequency')\n",
    "plt.title('Binomial Distribution with p=0.4')\n",
    "plt.show()\n"
   ]
  },
  {
   "cell_type": "code",
   "execution_count": 5,
   "id": "ddb6e84f-87ba-4dad-bf7b-f8a9ee5cad78",
   "metadata": {},
   "outputs": [
    {
     "name": "stdout",
     "output_type": "stream",
     "text": [
      "0.43347012036670884\n"
     ]
    }
   ],
   "source": [
    "# Q 6 Answer 6:\n",
    "import math\n",
    "\n",
    "def poisson_cdf(k, mean):\n",
    "    \"\"\"\n",
    "    Calculates the cumulative distribution function (CDF) of a Poisson distribution\n",
    "    at a given point k, given its mean.\n",
    "    \n",
    "    Parameters:\n",
    "    k (int): The point at which to evaluate the CDF.\n",
    "    mean (float): The mean of the Poisson distribution.\n",
    "    \n",
    "    Returns:\n",
    "    The CDF value at the given point k.\n",
    "    \"\"\"\n",
    "    cdf = 0.0\n",
    "    for i in range(k + 1):\n",
    "        cdf += math.exp(-mean) * (mean ** i) / math.factorial(i)\n",
    "    return cdf\n",
    "\n",
    "cdf_value = poisson_cdf(3, 4)\n",
    "print(cdf_value)\n"
   ]
  },
  {
   "cell_type": "code",
   "execution_count": null,
   "id": "d11552a6-fbf0-4e70-a0ee-b95284688ede",
   "metadata": {},
   "outputs": [],
   "source": [
    "# Q 7 Answer 7:\n",
    "\"\"\"\n",
    "The Binomial and Poisson distributions are both probability distributions that describe the occurrence of events. \n",
    "While they are related, there are some key differences between them.\n",
    "\n",
    "Definition: The Binomial distribution describes the probability of a fixed number of successes in a fixed number of independent trials,\n",
    "with a constant probability of success on each trial. The Poisson distribution, on the other hand,\n",
    "describes the probability of a certain number of events occurring in a fixed interval of time or space, \n",
    "where the events are rare and random.\n",
    "\n",
    "1)Number of events: The Binomial distribution counts the number of successes in a fixed number of trials, \n",
    "while the Poisson distribution counts the number of events in a fixed interval of time or space.\n",
    "\n",
    "2)Probability of success: In the Binomial distribution, the probability of success is constant across all trials. \n",
    "In the Poisson distribution, the probability of an event occurring is assumed to be small and constant across the entire time or space interval.\n",
    "\n",
    "3)Shape of distribution: The Binomial distribution is a discrete distribution, \n",
    "while the Poisson distribution is a discrete or continuous distribution, depending on the context.\n",
    "\n",
    "4)Parameters: The Binomial distribution has two parameters: the number of trials and the probability of success. \n",
    "The Poisson distribution has one parameter: the average number of events in the interval.\n",
    "\n",
    "5)Applications: The Binomial distribution is commonly used to model the probability of success in a fixed number of trials, \n",
    "such as the number of heads in a series of coin flips or the number of defective items in a production run. \n",
    "The Poisson distribution is often used to model rare events, \n",
    "such as the number of phone calls a call center receives in an hour or the number of cars that pass through a toll booth in a minute.\n",
    "\n",
    "In summary, while the Binomial and Poisson distributions are both probability distributions that describe the occurrence of events, \n",
    "they are used in different contexts and have different assumptions and characteristics.\n",
    "\"\"\""
   ]
  },
  {
   "cell_type": "code",
   "execution_count": 6,
   "id": "22d16a0b-4e64-4b1f-810e-330cedc37e5d",
   "metadata": {},
   "outputs": [
    {
     "name": "stdout",
     "output_type": "stream",
     "text": [
      "Sample mean: 5.054\n",
      "Sample variance: 5.329084000000001\n"
     ]
    }
   ],
   "source": [
    "# Q 8 Answer 8:\n",
    "import numpy as np\n",
    "\n",
    "# Generate random sample of size 1000 from Poisson distribution with mean 5\n",
    "sample = np.random.poisson(lam=5, size=1000)\n",
    "\n",
    "# Calculate sample mean and variance\n",
    "mean = np.mean(sample)\n",
    "variance = np.var(sample)\n",
    "\n",
    "# Print results\n",
    "print(\"Sample mean:\", mean)\n",
    "print(\"Sample variance:\", variance)\n"
   ]
  },
  {
   "cell_type": "code",
   "execution_count": null,
   "id": "16e408f9-cc88-492a-8168-ef77c5c0766b",
   "metadata": {},
   "outputs": [],
   "source": [
    "# Q 9 Answer 9:\n",
    "\"\"\"\n",
    "n the Binomial distribution, the mean (μ) is equal to the product of the number of trials (n) and the probability of success (p), that is μ = np.\n",
    "The variance (σ^2) is equal to the product of n, p and (1-p), that is σ^2 = np(1-p).\n",
    "\n",
    "In the Poisson distribution, the mean (μ) and variance (σ^2) are both equal to λ, the parameter of the distribution. \n",
    "That is, μ = σ^2 = λ.\n",
    "\n",
    "In summary, the mean and variance are directly related to each other in the Binomial distribution, \n",
    "but are equal to each other in the Poisson distribution. If we know the mean of a Binomial distribution, \n",
    "we can calculate its variance, but in the Poisson distribution, the mean and variance are the same, and we only need to know the value of λ.\n",
    "\"\"\""
   ]
  },
  {
   "cell_type": "code",
   "execution_count": null,
   "id": "dc5e6072-3204-4dd3-aac5-a9d19aacabfb",
   "metadata": {},
   "outputs": [],
   "source": [
    "# Q 10 Answer 10:\n",
    "\"\"\"\n",
    "In a normal distribution, the least frequent data appears in the tails of the distribution, which are the areas that are farthest from the mean. \n",
    "The normal distribution is symmetric about the mean, and the tails extend infinitely in both positive and negative directions.\n",
    "\n",
    "In a standard normal distribution (with mean 0 and standard deviation 1), the least frequent data is located at the extreme tails,\n",
    "beyond ±3 standard deviations from the mean. According to the empirical rule (also known as the 68-95-99.7 rule), \n",
    "about 68% of the data falls within one standard deviation of the mean, about 95% of the data falls within two standard deviations of the mean,\n",
    "and about 99.7% of the data falls within three standard deviations of the mean.\n",
    "This means that only about 0.3% of the data falls beyond ±3 standard deviations from the mean, and this is where the least frequent data appears.\n",
    "\n",
    "In a normal distribution with a non-zero mean, the tails of the distribution are still the areas farthest from the mean, \n",
    "but their position will depend on the value of the mean and the standard deviation of the distribution.\n",
    "\"\"\""
   ]
  }
 ],
 "metadata": {
  "kernelspec": {
   "display_name": "Python 3 (ipykernel)",
   "language": "python",
   "name": "python3"
  },
  "language_info": {
   "codemirror_mode": {
    "name": "ipython",
    "version": 3
   },
   "file_extension": ".py",
   "mimetype": "text/x-python",
   "name": "python",
   "nbconvert_exporter": "python",
   "pygments_lexer": "ipython3",
   "version": "3.10.8"
  }
 },
 "nbformat": 4,
 "nbformat_minor": 5
}
