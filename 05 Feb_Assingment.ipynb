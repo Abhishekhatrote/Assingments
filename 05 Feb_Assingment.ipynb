{
 "cells": [
  {
   "cell_type": "markdown",
   "id": "05203abe-6615-49c7-8cea-fc182c8787af",
   "metadata": {},
   "source": [
    "# Question 1 Answer:\n"
   ]
  },
  {
   "cell_type": "code",
   "execution_count": 10,
   "id": "cb229b33-6187-4789-874c-9d53abd5cf85",
   "metadata": {},
   "outputs": [
    {
     "data": {
      "text/plain": [
       "'\\n Class:-\\nA class is considered as a blueprint of objects. \\nWe can think of the class as a sketch (prototype) of a house.\\nIt contains all the details about the floors, doors, windows, etc. \\nBased on these descriptions we build the house. House is the object.\\nSince many houses can be made from the same description, we can create many objects from a class.\\n\\nobject:\\nPython is a programming language that focuses on object-oriented programming.\\nIn Python, almost everything is an object. We can check if the python is an object using the type(). \\nIt is just a collection of variables and Python functions. \\nThere are various types of objects in Python such as Lists, dictionaries, files, sets, strings and etc.\\nAn object is defined by its class. For example, an integer variable is a member of the integer class.\\nAn object is a physical entity. The properties of an object are as follows. \\nState, Identity, and behavior are the three key properties of the object\\n\\n'"
      ]
     },
     "execution_count": 10,
     "metadata": {},
     "output_type": "execute_result"
    }
   ],
   "source": [
    "\"\"\"\n",
    " Class:-\n",
    "A class is considered as a blueprint of objects. \n",
    "We can think of the class as a sketch (prototype) of a house.\n",
    "It contains all the details about the floors, doors, windows, etc. \n",
    "Based on these descriptions we build the house. House is the object.\n",
    "Since many houses can be made from the same description, we can create many objects from a class.\n",
    "\n",
    "object:\n",
    "Python is a programming language that focuses on object-oriented programming.\n",
    "In Python, almost everything is an object. We can check if the python is an object using the type(). \n",
    "It is just a collection of variables and Python functions. \n",
    "There are various types of objects in Python such as Lists, dictionaries, files, sets, strings and etc.\n",
    "An object is defined by its class. For example, an integer variable is a member of the integer class.\n",
    "An object is a physical entity. The properties of an object are as follows. \n",
    "State, Identity, and behavior are the three key properties of the object\n",
    "\n",
    "\"\"\"\n",
    "\n"
   ]
  },
  {
   "cell_type": "code",
   "execution_count": 11,
   "id": "6da2fce9-7003-4bf7-9539-d7a21969de50",
   "metadata": {},
   "outputs": [],
   "source": [
    "class pwskills1:\n",
    "    def __init__(self,phone_number, email_id, student_id):\n",
    "        self.phone_number = phone_number\n",
    "        self.email_id = email_id\n",
    "        self.student_id = student_id\n",
    "    def return_student_details(self):\n",
    "        return self.student_id,self.phone_number,self.email_id"
   ]
  },
  {
   "cell_type": "code",
   "execution_count": 12,
   "id": "63179fa3-58a3-4d4b-bbcb-a66dc19171c2",
   "metadata": {},
   "outputs": [],
   "source": [
    "abhi = pwskills1(923945666,\"xyzgamil.com\",101)"
   ]
  },
  {
   "cell_type": "code",
   "execution_count": 14,
   "id": "2cc6077b-daac-408a-a4c8-6e03ae4687e4",
   "metadata": {},
   "outputs": [
    {
     "data": {
      "text/plain": [
       "(101, 923945666, 'xyzgamil.com')"
      ]
     },
     "execution_count": 14,
     "metadata": {},
     "output_type": "execute_result"
    }
   ],
   "source": [
    "abhi.return_student_details()"
   ]
  },
  {
   "cell_type": "markdown",
   "id": "655af50f-55a9-44bc-8109-064103e3aea5",
   "metadata": {},
   "source": [
    "# Question 2 Answer:"
   ]
  },
  {
   "cell_type": "code",
   "execution_count": null,
   "id": "4eb98aa2-f0ef-40e3-b4f0-88bcad7595a8",
   "metadata": {},
   "outputs": [],
   "source": [
    "\"\"\"\n",
    "1)Abstraction\n",
    "2)Encapsulation \n",
    "3)Inheritance\n",
    "4)Polymorphism\n",
    "\"\"\""
   ]
  },
  {
   "cell_type": "markdown",
   "id": "418f3506-fc70-49d6-929e-68025850c221",
   "metadata": {},
   "source": [
    "# Question 3 Answer:"
   ]
  },
  {
   "cell_type": "code",
   "execution_count": null,
   "id": "01ec37d6-397f-49c6-8e96-cc8090590060",
   "metadata": {},
   "outputs": [],
   "source": [
    "\"\"\"\n",
    "Cnostractor:__init__():\n",
    "Constructors are used to initializing the object’s state.\n",
    "The task of constructors is to initialize(assign values) to the data members of the class when an object of the class is created. \n",
    "Like methods, a constructor also contains a collection of statements(i.e. instructions) that are executed at the time of Object creation.\n",
    "It is run as soon as an object of a class is instantiated. The method is useful to do any initialization you want to do with your object.\n",
    "\n",
    "\"\"\""
   ]
  },
  {
   "cell_type": "code",
   "execution_count": 15,
   "id": "7b626fcb-c79d-45f6-86e1-727dedde8632",
   "metadata": {},
   "outputs": [
    {
     "name": "stdout",
     "output_type": "stream",
     "text": [
      "Hello, my name is Abhishek\n"
     ]
    }
   ],
   "source": [
    "class Person:\n",
    " \n",
    "    \n",
    "    def __init__(self, name):\n",
    "        self.name = name\n",
    " \n",
    "    \n",
    "    def say_hi(self):\n",
    "        print('Hello, my name is', self.name)\n",
    " \n",
    " \n",
    "p = Person('Abhishek')\n",
    "p.say_hi()"
   ]
  },
  {
   "cell_type": "markdown",
   "id": "d21e3e89-81ec-4ec2-9605-849f7fd75c7b",
   "metadata": {},
   "source": [
    "# Question 4 Answer"
   ]
  },
  {
   "cell_type": "code",
   "execution_count": null,
   "id": "4f79898a-96fb-4c31-9687-18edfe9c36be",
   "metadata": {},
   "outputs": [],
   "source": [
    "\"\"\"\n",
    "self():-\n",
    "self represents the instance of the class.\n",
    "By using the “self”  we can access the attributes and methods of the class in python.\n",
    "It binds the attributes with the given arguments.\n",
    "The reason you need to use self. is because Python does not use the @ syntax to refer to instance attributes.\n",
    "\"\"\""
   ]
  },
  {
   "cell_type": "markdown",
   "id": "ff48bfd1-9044-4a2a-909a-688e0884db0c",
   "metadata": {},
   "source": [
    "#  Question 5 Answer:"
   ]
  },
  {
   "cell_type": "code",
   "execution_count": null,
   "id": "7571c847-1024-40f3-88cf-a9b9e9f560ba",
   "metadata": {},
   "outputs": [],
   "source": [
    "\"\"\"\n",
    "There are 5 types of inheritances:\n",
    "\n",
    "1)Single Inheritance\n",
    "2)Multiple Inheritance\n",
    "3)Multilevel Inheritance\n",
    "4)Hierarchical Inheritance\n",
    "4)Hybrid Inheritance"
   ]
  },
  {
   "cell_type": "code",
   "execution_count": 16,
   "id": "47d43d62-45b0-48e7-b583-145487c3e495",
   "metadata": {},
   "outputs": [
    {
     "name": "stdout",
     "output_type": "stream",
     "text": [
      "This function is in parent class.\n",
      "This function is in child class.\n"
     ]
    }
   ],
   "source": [
    "\n",
    "# single inheritance\n",
    "\n",
    "class Parent:\n",
    "\tdef func1(self):\n",
    "\t\tprint(\"This function is in parent class.\")\n",
    "\n",
    "\n",
    "class Child(Parent):\n",
    "\tdef func2(self):\n",
    "\t\tprint(\"This function is in child class.\")\n",
    "\n",
    "object = Child()\n",
    "object.func1()\n",
    "object.func2()\n"
   ]
  },
  {
   "cell_type": "code",
   "execution_count": 17,
   "id": "30cc2dab-2829-48ae-a579-d2ab2ebfbcdd",
   "metadata": {},
   "outputs": [
    {
     "name": "stdout",
     "output_type": "stream",
     "text": [
      "Father : abhi\n",
      "Mother : Shadhana\n"
     ]
    }
   ],
   "source": [
    "\n",
    "# multiple inheritance\n",
    " \n",
    "\n",
    "class Mother:\n",
    "    mothername = \"\"\n",
    " \n",
    "    def mother(self):\n",
    "        print(self.mothername)\n",
    " \n",
    "\n",
    " \n",
    " \n",
    "class Father:\n",
    "    fathername = \"\"\n",
    " \n",
    "    def father(self):\n",
    "        print(self.fathername)\n",
    " \n",
    "\n",
    " \n",
    " \n",
    "class Son(Mother, Father):\n",
    "    def parents(self):\n",
    "        print(\"Father :\", self.fathername)\n",
    "        print(\"Mother :\", self.mothername)\n",
    " \n",
    " \n",
    "# Driver's code\n",
    "s1 = Son()\n",
    "s1.fathername = \"abhi\"\n",
    "s1.mothername = \"Shadhana\"\n",
    "s1.parents()"
   ]
  },
  {
   "cell_type": "code",
   "execution_count": 20,
   "id": "57ef5f99-ea26-4308-8992-0cdab8748a18",
   "metadata": {},
   "outputs": [
    {
     "name": "stdout",
     "output_type": "stream",
     "text": [
      "Annapa\n",
      "Grandfather name : Annapa\n",
      "Father name : Chintamani\n",
      "Son name : Abhi\n"
     ]
    }
   ],
   "source": [
    "\n",
    "# multilevel inheritance\n",
    " \n",
    "\n",
    " \n",
    " \n",
    "class Grandfather:\n",
    " \n",
    "    def __init__(self, grandfathername):\n",
    "        self.grandfathername = grandfathername\n",
    " \n",
    " \n",
    " \n",
    "class Father(Grandfather):\n",
    "    def __init__(self, fathername, grandfathername):\n",
    "        self.fathername = fathername\n",
    " \n",
    "        \n",
    "        Grandfather.__init__(self, grandfathername)\n",
    " \n",
    " \n",
    " \n",
    "class Son(Father):\n",
    "    def __init__(self, sonname, fathername, grandfathername):\n",
    "        self.sonname = sonname\n",
    " \n",
    "    \n",
    "        Father.__init__(self, fathername, grandfathername)\n",
    " \n",
    "    def print_name(self):\n",
    "        print('Grandfather name :', self.grandfathername)\n",
    "        print(\"Father name :\", self.fathername)\n",
    "        print(\"Son name :\", self.sonname)\n",
    " \n",
    " \n",
    "#  Driver code\n",
    "s1 = Son('Abhi', 'Chintamani', 'Annapa')\n",
    "print(s1.grandfathername)\n",
    "s1.print_name()"
   ]
  },
  {
   "cell_type": "code",
   "execution_count": 21,
   "id": "17d77927-74d4-4ee8-b239-6fef0a4d5dc8",
   "metadata": {},
   "outputs": [
    {
     "name": "stdout",
     "output_type": "stream",
     "text": [
      "This function is in parent class.\n",
      "This function is in child 1.\n",
      "This function is in parent class.\n",
      "This function is in child 2.\n"
     ]
    }
   ],
   "source": [
    "\n",
    "\n",
    "# Hierarchical inheritance\n",
    " \n",
    " \n",
    "# Base class\n",
    "class Parent:\n",
    "    def func1(self):\n",
    "        print(\"This function is in parent class.\")\n",
    " \n",
    " \n",
    " \n",
    "class Child1(Parent):\n",
    "    def func2(self):\n",
    "        print(\"This function is in child 1.\")\n",
    " \n",
    " \n",
    " \n",
    "class Child2(Parent):\n",
    "    def func3(self):\n",
    "        print(\"This function is in child 2.\")\n",
    " \n",
    " \n",
    "# Driver's code\n",
    "object1 = Child1()\n",
    "object2 = Child2()\n",
    "object1.func1()\n",
    "object1.func2()\n",
    "object2.func1()\n",
    "object2.func3()"
   ]
  },
  {
   "cell_type": "code",
   "execution_count": null,
   "id": "896339ee-d665-4645-a73f-b7032b2d4304",
   "metadata": {},
   "outputs": [],
   "source": [
    "\n",
    "# Python program to d\n",
    "# hybrid inheritance\n",
    " \n",
    " \n",
    "class School:\n",
    "    def func1(self):\n",
    "        print(\"This function is in school.\")\n",
    " \n",
    " \n",
    "class Student1(School):\n",
    "    def func2(self):\n",
    "        print(\"This function is in student 1. \")\n",
    " \n",
    " \n",
    "class Student2(School):\n",
    "    def func3(self):\n",
    "        print(\"This function is in student 2.\")\n",
    " \n",
    " \n",
    "class Student3(Student1, School):\n",
    "    def func4(self):\n",
    "        print(\"This function is in student 3.\")\n",
    " \n",
    " \n",
    "# Driver's code\n",
    "object = Student3()\n",
    "object.func1()\n",
    "object.func2()"
   ]
  }
 ],
 "metadata": {
  "kernelspec": {
   "display_name": "Python 3 (ipykernel)",
   "language": "python",
   "name": "python3"
  },
  "language_info": {
   "codemirror_mode": {
    "name": "ipython",
    "version": 3
   },
   "file_extension": ".py",
   "mimetype": "text/x-python",
   "name": "python",
   "nbconvert_exporter": "python",
   "pygments_lexer": "ipython3",
   "version": "3.10.8"
  }
 },
 "nbformat": 4,
 "nbformat_minor": 5
}
