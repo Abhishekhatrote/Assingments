{
 "cells": [
  {
   "cell_type": "markdown",
   "id": "d78925c6-24e7-4392-8da5-a2ef1d342526",
   "metadata": {},
   "source": [
    "# Question 1 Answer:"
   ]
  },
  {
   "cell_type": "code",
   "execution_count": 17,
   "id": "372f6b68-ca6f-48a3-b98a-dd6b0ef50dcc",
   "metadata": {},
   "outputs": [
    {
     "name": "stdout",
     "output_type": "stream",
     "text": [
      "(0, [(1, 34)], [('key2', [55, 67, 78, 89])])\n"
     ]
    }
   ],
   "source": [
    "def calculate_product(list1):\n",
    "    flat_list = []\n",
    "    dict_list = []\n",
    "    \n",
    "    def flatten(list1):\n",
    "        for item in list1:\n",
    "            if isinstance(item, (list, tuple, set)):\n",
    "                flatten(item)\n",
    "            elif isinstance(item, int):\n",
    "                flat_list.append(item)\n",
    "            elif isinstance(item, dict):\n",
    "                dict_list.extend(item.items())\n",
    "    \n",
    "    flatten(list1)\n",
    "    \n",
    "    product = 1\n",
    "    for num in flat_list:\n",
    "        product *= num\n",
    "    \n",
    "    numeric_dict_items = [(k, v) for k, v in dict_list if isinstance(k, (int, float)) and isinstance(v, (int, float))]\n",
    "    numeric_dict_items1 = [(k, v) for k, v in dict_list if isinstance(k, (str, int)) and isinstance(v, (int, tuple))]\n",
    "    numeric_dict_items1 = [(k, v) for k, v in dict_list if isinstance(k, (str)) and isinstance(v, (list))]\n",
    "    \n",
    "    return product, numeric_dict_items,numeric_dict_items1\n",
    "\n",
    "list1 = [1,2,3,4, [44,55,66, True], False, (34,56,78,89,34), {1,2,3,3,2,1}, {1:34, \"key2\": [55, 67, 78, 89], 4: (45,\n",
    "22, 61, 34)}, [56, 'data science'], 'Machine Learning']\n",
    "print(calculate_product(list1))\n",
    "\n"
   ]
  },
  {
   "cell_type": "markdown",
   "id": "d656e03c-d70b-4096-adb0-0e04f8594da0",
   "metadata": {},
   "source": [
    "# Question 2 Answer:\n"
   ]
  },
  {
   "cell_type": "code",
   "execution_count": 9,
   "id": "7d0acec4-ceb3-4b50-ae5e-9c702d4bcfb1",
   "metadata": {},
   "outputs": [
    {
     "name": "stdout",
     "output_type": "stream",
     "text": [
      "i want to become a data scientist.\n",
      "Input Message: i want to become a data scientist.\n",
      "Encrypted Message: h$v`ms$sn$adbnld$`$c`s`$rbhdmshrs.\n"
     ]
    }
   ],
   "source": [
    "def encrypt_message(message):\n",
    "    encrypted_message = \"\"\n",
    "    for char in message:\n",
    "        if char == \" \":\n",
    "            encrypted_message += \"$\"\n",
    "        elif char.isalpha():\n",
    "            encrypted_message += chr(ord(char) - 1)\n",
    "        else:\n",
    "            encrypted_message += char\n",
    "    return encrypted_message\n",
    "\n",
    "input_sentence = \"I want to become a Data Scientist.\"\n",
    "lowercase_sentence = input_sentence.lower()\n",
    "print(lowercase_sentence)\n",
    "print(\"Input Message:\", lowercase_sentence)\n",
    "print(\"Encrypted Message:\", encrypt_message(lowercase_sentence))"
   ]
  },
  {
   "cell_type": "code",
   "execution_count": null,
   "id": "6f3f29ce-e4de-4933-a88a-116493244cdc",
   "metadata": {},
   "outputs": [],
   "source": []
  }
 ],
 "metadata": {
  "kernelspec": {
   "display_name": "Python 3 (ipykernel)",
   "language": "python",
   "name": "python3"
  },
  "language_info": {
   "codemirror_mode": {
    "name": "ipython",
    "version": 3
   },
   "file_extension": ".py",
   "mimetype": "text/x-python",
   "name": "python",
   "nbconvert_exporter": "python",
   "pygments_lexer": "ipython3",
   "version": "3.10.8"
  }
 },
 "nbformat": 4,
 "nbformat_minor": 5
}
