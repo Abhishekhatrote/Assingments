{
 "cells": [
  {
   "cell_type": "code",
   "execution_count": 1,
   "id": "e115bda8-3edd-4042-87d8-a5e8b4deff09",
   "metadata": {},
   "outputs": [
    {
     "name": "stdout",
     "output_type": "stream",
     "text": [
      "0     4\n",
      "1     8\n",
      "2    15\n",
      "3    16\n",
      "4    23\n",
      "5    42\n",
      "dtype: int64\n"
     ]
    }
   ],
   "source": [
    "# Q1 Ans :\n",
    "\n",
    "\n",
    "import pandas as pd\n",
    "\n",
    "data = [4, 8, 15, 16, 23, 42]\n",
    "series = pd.Series(data)\n",
    "\n",
    "print(series)\n",
    "\n",
    "\n",
    "\n"
   ]
  },
  {
   "cell_type": "code",
   "execution_count": 2,
   "id": "8b5f27e9-a8e5-464d-900f-8e950f6adb2f",
   "metadata": {},
   "outputs": [
    {
     "name": "stdout",
     "output_type": "stream",
     "text": [
      "0     1\n",
      "1     2\n",
      "2     3\n",
      "3     4\n",
      "4     5\n",
      "5     6\n",
      "6     7\n",
      "7     8\n",
      "8     9\n",
      "9    10\n",
      "dtype: int64\n"
     ]
    }
   ],
   "source": [
    "# Q2 Ans :\n",
    "\n",
    "import pandas as pd\n",
    "\n",
    "my_list = [1, 2, 3, 4, 5, 6, 7, 8, 9, 10]\n",
    "\n",
    "series = pd.Series(my_list)\n",
    "\n",
    "print(series)\n",
    "\n",
    "\n"
   ]
  },
  {
   "cell_type": "code",
   "execution_count": 3,
   "id": "c8815659-0b7b-4a3e-8e34-83882c261d7a",
   "metadata": {},
   "outputs": [
    {
     "name": "stdout",
     "output_type": "stream",
     "text": [
      "     Name  Age  Gender\n",
      "0   Alice   25  Female\n",
      "1     Bob   30    Male\n",
      "2  Claire   27  Female\n"
     ]
    }
   ],
   "source": [
    "# Q3 Ans :\n",
    "\n",
    "data = {\n",
    "    'Name': ['Alice', 'Bob', 'Claire'],\n",
    "    'Age': [25, 30, 27],\n",
    "    'Gender': ['Female', 'Male', 'Female']\n",
    "}\n",
    "\n",
    "df = pd.DataFrame(data)\n",
    "\n",
    "print(df)\n"
   ]
  },
  {
   "cell_type": "code",
   "execution_count": 4,
   "id": "07196e21-ff26-4eb8-84d1-b289f98d1814",
   "metadata": {},
   "outputs": [
    {
     "name": "stdout",
     "output_type": "stream",
     "text": [
      "Pandas Series:\n",
      "0    1\n",
      "1    2\n",
      "2    3\n",
      "3    4\n",
      "4    5\n",
      "dtype: int64\n",
      "\n",
      "\n",
      "Pandas DataFrame:\n",
      "     Name  Age  Gender\n",
      "0   Alice   25  Female\n",
      "1     Bob   30    Male\n",
      "2  Claire   27  Female\n"
     ]
    }
   ],
   "source": [
    "# Q4 Ans :\n",
    "\n",
    "\"\"\"\n",
    "In Pandas, a DataFrame is a two-dimensional labeled data structure that can hold data of different types (numeric, string, boolean, etc.). \n",
    "It is like a spreadsheet or a SQL table, where data is organized in rows and columns. \n",
    "Each column in a DataFrame is a Pandas series, which is a one-dimensional labeled array capable of holding data of the same type.\n",
    "\n",
    "The main differences between a Pandas DataFrame and a Pandas Series are as follows:\n",
    "\n",
    "A Pandas Series is a one-dimensional data structure that can hold data of any type,\n",
    "whereas a Pandas DataFrame is a two-dimensional data structure that can hold data of multiple types.\n",
    "\n",
    "A Pandas Series has a single index, \n",
    "while a Pandas DataFrame has two indices - row and column indices.\n",
    "\n",
    "A Pandas Series can be thought of as a single column of a Pandas DataFrame.\n",
    "\n",
    "Here's an example that demonstrates the differences between a Pandas Series and a Pandas DataFrame:\n",
    "\"\"\"\n",
    "\n",
    "\n",
    "\n",
    "# Creating a Pandas Series\n",
    "s = pd.Series([1, 2, 3, 4, 5])\n",
    "\n",
    "# Creating a Pandas DataFrame\n",
    "df = pd.DataFrame({\n",
    "    'Name': ['Alice', 'Bob', 'Claire'],\n",
    "    'Age': [25, 30, 27],\n",
    "    'Gender': ['Female', 'Male', 'Female']\n",
    "})\n",
    "\n",
    "print(\"Pandas Series:\")\n",
    "print(s)\n",
    "print(\"\\n\")\n",
    "\n",
    "print(\"Pandas DataFrame:\")\n",
    "print(df)\n"
   ]
  },
  {
   "cell_type": "code",
   "execution_count": null,
   "id": "d2d9715b-7ef5-4328-896d-473f26ed396c",
   "metadata": {},
   "outputs": [],
   "source": [
    "# Q5 Ans :\n",
    "\n",
    "\"\"\"\n",
    "1)Pandas DataFrame provides a rich set of functions to manipulate, transform, and analyze data. \n",
    "Some common functions to manipulate data in a Pandas DataFrame are:\n",
    "\n",
    "head() and tail(): These functions are used to view the first and last few rows of the DataFrame, respectively.\n",
    "For example, to view the first five rows of a DataFrame, you can use the head() function as follows:\n",
    "\n",
    "df.head()\n",
    "\n",
    "2)describe(): This function is used to get a summary of the DataFrame, including count, mean, standard deviation, minimum, \n",
    "and maximum values for each column.\n",
    "For example, to get a summary of the DataFrame, you can use the describe() function as follows:\n",
    "\n",
    "df.describe()\n",
    "\n",
    "3)groupby(): This function is used to group data based on one or more columns and perform aggregate functions on the groups.\n",
    "For example, to group data by the \"Gender\" column and get the average age for each group, \n",
    "you can use the groupby() function as follows:\n",
    "\n",
    "df.groupby('Gender')['Age'].mean()\n",
    "\n",
    "4)sort_values(): This function is used to sort the DataFrame by one or more columns.\n",
    "For example, to sort the DataFrame by the \"Age\" column in descending order, \n",
    "you can use the sort_values() function as follows:\n",
    "\n",
    "df.sort_values('Age', ascending=False)\n",
    "\n",
    "5)drop(): This function is used to drop rows or columns from the DataFrame.\n",
    "For example, to drop the \"Age\" column from the DataFrame, you can use the drop() function as follows:\n",
    "\n",
    "df.drop('Age', axis=1)\n",
    "\n",
    "\n",
    "\"\"\""
   ]
  },
  {
   "cell_type": "code",
   "execution_count": 6,
   "id": "ae987dbb-834c-4e78-a71e-765f06a5e32f",
   "metadata": {},
   "outputs": [
    {
     "data": {
      "text/plain": [
       "'\\nIn pandas, both Series and DataFrame are mutable, \\nwhich means that their values can be modified after they are created. However, Panel is not mutable, and in fact, \\nit has been deprecated since version 0.25.0 of pandas. \\nThe recommended way to work with 3-dimensional data is to use a MultiIndex DataFrame.\\n'"
      ]
     },
     "execution_count": 6,
     "metadata": {},
     "output_type": "execute_result"
    }
   ],
   "source": [
    "# Q6 Ans :\n",
    "\"\"\"\n",
    "In pandas, both Series and DataFrame are mutable, \n",
    "which means that their values can be modified after they are created. However, Panel is not mutable, and in fact, \n",
    "it has been deprecated since version 0.25.0 of pandas. \n",
    "The recommended way to work with 3-dimensional data is to use a MultiIndex DataFrame.\n",
    "\"\"\""
   ]
  },
  {
   "cell_type": "code",
   "execution_count": 7,
   "id": "6cec8322-5bb4-4be9-8297-65f1f3412ab4",
   "metadata": {},
   "outputs": [
    {
     "name": "stdout",
     "output_type": "stream",
     "text": [
      "   Name  Age    Country\n",
      "0  John   28        USA\n",
      "1  Sara   25     Canada\n",
      "2  Mike   32  Australia\n",
      "3   Kim   21         UK\n"
     ]
    }
   ],
   "source": [
    " #Q7 Ans :\n",
    "\"\"\"\n",
    "To create a DataFrame using multiple Series, we can pass the Series objects as a dictionary to the pd.DataFrame() function.\n",
    "The dictionary keys will become the column names, and the values will become the Series data.\n",
    "\n",
    "Here is an example code snippet:\n",
    "\"\"\"\n",
    "import pandas as pd\n",
    "\n",
    "# create the first Series\n",
    "name = pd.Series([\"John\", \"Sara\", \"Mike\", \"Kim\"])\n",
    "\n",
    "# create the second Series\n",
    "age = pd.Series([28, 25, 32, 21])\n",
    "\n",
    "# create the third Series\n",
    "country = pd.Series([\"USA\", \"Canada\", \"Australia\", \"UK\"])\n",
    "\n",
    "# create the DataFrame using the dictionary of Series\n",
    "df = pd.DataFrame({\"Name\": name, \"Age\": age, \"Country\": country})\n",
    "\n",
    "# print the resulting DataFrame\n",
    "print(df)\n"
   ]
  },
  {
   "cell_type": "code",
   "execution_count": null,
   "id": "06b98f8f-7c6c-478f-ac91-d290c30201b2",
   "metadata": {},
   "outputs": [],
   "source": []
  }
 ],
 "metadata": {
  "kernelspec": {
   "display_name": "Python 3 (ipykernel)",
   "language": "python",
   "name": "python3"
  },
  "language_info": {
   "codemirror_mode": {
    "name": "ipython",
    "version": 3
   },
   "file_extension": ".py",
   "mimetype": "text/x-python",
   "name": "python",
   "nbconvert_exporter": "python",
   "pygments_lexer": "ipython3",
   "version": "3.10.8"
  }
 },
 "nbformat": 4,
 "nbformat_minor": 5
}
